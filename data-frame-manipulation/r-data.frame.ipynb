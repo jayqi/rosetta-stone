{
 "cells": [
  {
   "cell_type": "markdown",
   "metadata": {},
   "source": [
    "# Data Frame Manipulation -- Base R data.frame\n",
    "Basic data frame manipulation using base R data frames."
   ]
  },
  {
   "cell_type": "code",
   "execution_count": 1,
   "metadata": {},
   "outputs": [],
   "source": [
    "library(magrittr)"
   ]
  },
  {
   "cell_type": "markdown",
   "metadata": {},
   "source": [
    "## Load csv"
   ]
  },
  {
   "cell_type": "code",
   "execution_count": 2,
   "metadata": {},
   "outputs": [
    {
     "data": {
      "text/html": [
       "<table class=\"dataframe\">\n",
       "<caption>A data.frame: 3 × 14</caption>\n",
       "<thead>\n",
       "\t<tr><th></th><th scope=col>pclass</th><th scope=col>survived</th><th scope=col>name</th><th scope=col>sex</th><th scope=col>age</th><th scope=col>sibsp</th><th scope=col>parch</th><th scope=col>ticket</th><th scope=col>fare</th><th scope=col>cabin</th><th scope=col>embarked</th><th scope=col>boat</th><th scope=col>body</th><th scope=col>home.dest</th></tr>\n",
       "\t<tr><th></th><th scope=col>&lt;int&gt;</th><th scope=col>&lt;int&gt;</th><th scope=col>&lt;chr&gt;</th><th scope=col>&lt;chr&gt;</th><th scope=col>&lt;dbl&gt;</th><th scope=col>&lt;int&gt;</th><th scope=col>&lt;int&gt;</th><th scope=col>&lt;chr&gt;</th><th scope=col>&lt;dbl&gt;</th><th scope=col>&lt;chr&gt;</th><th scope=col>&lt;chr&gt;</th><th scope=col>&lt;chr&gt;</th><th scope=col>&lt;int&gt;</th><th scope=col>&lt;chr&gt;</th></tr>\n",
       "</thead>\n",
       "<tbody>\n",
       "\t<tr><th scope=row>1</th><td>1</td><td>1</td><td>Allen, Miss. Elisabeth Walton </td><td>female</td><td>29.0000</td><td>0</td><td>0</td><td>24160 </td><td>211.3375</td><td>B5     </td><td>S</td><td>2 </td><td>NA</td><td>St Louis, MO                   </td></tr>\n",
       "\t<tr><th scope=row>2</th><td>1</td><td>1</td><td>Allison, Master. Hudson Trevor</td><td>male  </td><td> 0.9167</td><td>1</td><td>2</td><td>113781</td><td>151.5500</td><td>C22 C26</td><td>S</td><td>11</td><td>NA</td><td>Montreal, PQ / Chesterville, ON</td></tr>\n",
       "\t<tr><th scope=row>3</th><td>1</td><td>0</td><td>Allison, Miss. Helen Loraine  </td><td>female</td><td> 2.0000</td><td>1</td><td>2</td><td>113781</td><td>151.5500</td><td>C22 C26</td><td>S</td><td>  </td><td>NA</td><td>Montreal, PQ / Chesterville, ON</td></tr>\n",
       "</tbody>\n",
       "</table>\n"
      ],
      "text/latex": [
       "A data.frame: 3 × 14\n",
       "\\begin{tabular}{r|llllllllllllll}\n",
       "  & pclass & survived & name & sex & age & sibsp & parch & ticket & fare & cabin & embarked & boat & body & home.dest\\\\\n",
       "  & <int> & <int> & <chr> & <chr> & <dbl> & <int> & <int> & <chr> & <dbl> & <chr> & <chr> & <chr> & <int> & <chr>\\\\\n",
       "\\hline\n",
       "\t1 & 1 & 1 & Allen, Miss. Elisabeth Walton  & female & 29.0000 & 0 & 0 & 24160  & 211.3375 & B5      & S & 2  & NA & St Louis, MO                   \\\\\n",
       "\t2 & 1 & 1 & Allison, Master. Hudson Trevor & male   &  0.9167 & 1 & 2 & 113781 & 151.5500 & C22 C26 & S & 11 & NA & Montreal, PQ / Chesterville, ON\\\\\n",
       "\t3 & 1 & 0 & Allison, Miss. Helen Loraine   & female &  2.0000 & 1 & 2 & 113781 & 151.5500 & C22 C26 & S &    & NA & Montreal, PQ / Chesterville, ON\\\\\n",
       "\\end{tabular}\n"
      ],
      "text/markdown": [
       "\n",
       "A data.frame: 3 × 14\n",
       "\n",
       "| <!--/--> | pclass &lt;int&gt; | survived &lt;int&gt; | name &lt;chr&gt; | sex &lt;chr&gt; | age &lt;dbl&gt; | sibsp &lt;int&gt; | parch &lt;int&gt; | ticket &lt;chr&gt; | fare &lt;dbl&gt; | cabin &lt;chr&gt; | embarked &lt;chr&gt; | boat &lt;chr&gt; | body &lt;int&gt; | home.dest &lt;chr&gt; |\n",
       "|---|---|---|---|---|---|---|---|---|---|---|---|---|---|---|\n",
       "| 1 | 1 | 1 | Allen, Miss. Elisabeth Walton  | female | 29.0000 | 0 | 0 | 24160  | 211.3375 | B5      | S | 2  | NA | St Louis, MO                    |\n",
       "| 2 | 1 | 1 | Allison, Master. Hudson Trevor | male   |  0.9167 | 1 | 2 | 113781 | 151.5500 | C22 C26 | S | 11 | NA | Montreal, PQ / Chesterville, ON |\n",
       "| 3 | 1 | 0 | Allison, Miss. Helen Loraine   | female |  2.0000 | 1 | 2 | 113781 | 151.5500 | C22 C26 | S | <!----> | NA | Montreal, PQ / Chesterville, ON |\n",
       "\n"
      ],
      "text/plain": [
       "  pclass survived name                           sex    age     sibsp parch\n",
       "1 1      1        Allen, Miss. Elisabeth Walton  female 29.0000 0     0    \n",
       "2 1      1        Allison, Master. Hudson Trevor male    0.9167 1     2    \n",
       "3 1      0        Allison, Miss. Helen Loraine   female  2.0000 1     2    \n",
       "  ticket fare     cabin   embarked boat body home.dest                      \n",
       "1 24160  211.3375 B5      S        2    NA   St Louis, MO                   \n",
       "2 113781 151.5500 C22 C26 S        11   NA   Montreal, PQ / Chesterville, ON\n",
       "3 113781 151.5500 C22 C26 S             NA   Montreal, PQ / Chesterville, ON"
      ]
     },
     "metadata": {},
     "output_type": "display_data"
    }
   ],
   "source": [
    "df <- read.csv(here::here(\".data\", \"titanic.csv\"))\n",
    "head(df, 3)"
   ]
  },
  {
   "cell_type": "markdown",
   "metadata": {},
   "source": [
    "## Summary"
   ]
  },
  {
   "cell_type": "code",
   "execution_count": 3,
   "metadata": {},
   "outputs": [
    {
     "data": {
      "text/html": [
       "1309"
      ],
      "text/latex": [
       "1309"
      ],
      "text/markdown": [
       "1309"
      ],
      "text/plain": [
       "[1] 1309"
      ]
     },
     "metadata": {},
     "output_type": "display_data"
    }
   ],
   "source": [
    "# Rows\n",
    "nrow(df)"
   ]
  },
  {
   "cell_type": "code",
   "execution_count": 4,
   "metadata": {},
   "outputs": [
    {
     "data": {
      "text/html": [
       "14"
      ],
      "text/latex": [
       "14"
      ],
      "text/markdown": [
       "14"
      ],
      "text/plain": [
       "[1] 14"
      ]
     },
     "metadata": {},
     "output_type": "display_data"
    }
   ],
   "source": [
    "# Columns\n",
    "length(df)"
   ]
  },
  {
   "cell_type": "code",
   "execution_count": 5,
   "metadata": {},
   "outputs": [
    {
     "name": "stdout",
     "output_type": "stream",
     "text": [
      "'data.frame':\t1309 obs. of  14 variables:\n",
      " $ pclass   : int  1 1 1 1 1 1 1 1 1 1 ...\n",
      " $ survived : int  1 1 0 0 0 1 1 0 1 0 ...\n",
      " $ name     : chr  \"Allen, Miss. Elisabeth Walton\" \"Allison, Master. Hudson Trevor\" \"Allison, Miss. Helen Loraine\" \"Allison, Mr. Hudson Joshua Creighton\" ...\n",
      " $ sex      : chr  \"female\" \"male\" \"female\" \"male\" ...\n",
      " $ age      : num  29 0.917 2 30 25 ...\n",
      " $ sibsp    : int  0 1 1 1 1 0 1 0 2 0 ...\n",
      " $ parch    : int  0 2 2 2 2 0 0 0 0 0 ...\n",
      " $ ticket   : chr  \"24160\" \"113781\" \"113781\" \"113781\" ...\n",
      " $ fare     : num  211 152 152 152 152 ...\n",
      " $ cabin    : chr  \"B5\" \"C22 C26\" \"C22 C26\" \"C22 C26\" ...\n",
      " $ embarked : chr  \"S\" \"S\" \"S\" \"S\" ...\n",
      " $ boat     : chr  \"2\" \"11\" \"\" \"\" ...\n",
      " $ body     : int  NA NA NA 135 NA NA NA NA NA 22 ...\n",
      " $ home.dest: chr  \"St Louis, MO\" \"Montreal, PQ / Chesterville, ON\" \"Montreal, PQ / Chesterville, ON\" \"Montreal, PQ / Chesterville, ON\" ...\n"
     ]
    }
   ],
   "source": [
    "# Inspect types\n",
    "str(df)"
   ]
  },
  {
   "cell_type": "code",
   "execution_count": 6,
   "metadata": {},
   "outputs": [
    {
     "data": {
      "text/plain": [
       "     pclass         survived         name               sex           \n",
       " Min.   :1.000   Min.   :0.000   Length:1309        Length:1309       \n",
       " 1st Qu.:2.000   1st Qu.:0.000   Class :character   Class :character  \n",
       " Median :3.000   Median :0.000   Mode  :character   Mode  :character  \n",
       " Mean   :2.295   Mean   :0.382                                        \n",
       " 3rd Qu.:3.000   3rd Qu.:1.000                                        \n",
       " Max.   :3.000   Max.   :1.000                                        \n",
       "                                                                      \n",
       "      age              sibsp            parch          ticket         \n",
       " Min.   : 0.1667   Min.   :0.0000   Min.   :0.000   Length:1309       \n",
       " 1st Qu.:21.0000   1st Qu.:0.0000   1st Qu.:0.000   Class :character  \n",
       " Median :28.0000   Median :0.0000   Median :0.000   Mode  :character  \n",
       " Mean   :29.8811   Mean   :0.4989   Mean   :0.385                     \n",
       " 3rd Qu.:39.0000   3rd Qu.:1.0000   3rd Qu.:0.000                     \n",
       " Max.   :80.0000   Max.   :8.0000   Max.   :9.000                     \n",
       " NA's   :263                                                          \n",
       "      fare            cabin             embarked             boat          \n",
       " Min.   :  0.000   Length:1309        Length:1309        Length:1309       \n",
       " 1st Qu.:  7.896   Class :character   Class :character   Class :character  \n",
       " Median : 14.454   Mode  :character   Mode  :character   Mode  :character  \n",
       " Mean   : 33.295                                                           \n",
       " 3rd Qu.: 31.275                                                           \n",
       " Max.   :512.329                                                           \n",
       " NA's   :1                                                                 \n",
       "      body        home.dest        \n",
       " Min.   :  1.0   Length:1309       \n",
       " 1st Qu.: 72.0   Class :character  \n",
       " Median :155.0   Mode  :character  \n",
       " Mean   :160.8                     \n",
       " 3rd Qu.:256.0                     \n",
       " Max.   :328.0                     \n",
       " NA's   :1188                      "
      ]
     },
     "metadata": {},
     "output_type": "display_data"
    }
   ],
   "source": [
    "# Descriptive statistics\n",
    "summary(df)"
   ]
  },
  {
   "cell_type": "markdown",
   "metadata": {},
   "source": [
    "## Slice data"
   ]
  },
  {
   "cell_type": "code",
   "execution_count": 7,
   "metadata": {
    "scrolled": true
   },
   "outputs": [
    {
     "data": {
      "text/html": [
       "<table class=\"dataframe\">\n",
       "<caption>A data.frame: 3 × 14</caption>\n",
       "<thead>\n",
       "\t<tr><th></th><th scope=col>pclass</th><th scope=col>survived</th><th scope=col>name</th><th scope=col>sex</th><th scope=col>age</th><th scope=col>sibsp</th><th scope=col>parch</th><th scope=col>ticket</th><th scope=col>fare</th><th scope=col>cabin</th><th scope=col>embarked</th><th scope=col>boat</th><th scope=col>body</th><th scope=col>home.dest</th></tr>\n",
       "\t<tr><th></th><th scope=col>&lt;int&gt;</th><th scope=col>&lt;int&gt;</th><th scope=col>&lt;chr&gt;</th><th scope=col>&lt;chr&gt;</th><th scope=col>&lt;dbl&gt;</th><th scope=col>&lt;int&gt;</th><th scope=col>&lt;int&gt;</th><th scope=col>&lt;chr&gt;</th><th scope=col>&lt;dbl&gt;</th><th scope=col>&lt;chr&gt;</th><th scope=col>&lt;chr&gt;</th><th scope=col>&lt;chr&gt;</th><th scope=col>&lt;int&gt;</th><th scope=col>&lt;chr&gt;</th></tr>\n",
       "</thead>\n",
       "<tbody>\n",
       "\t<tr><th scope=row>2</th><td>1</td><td>1</td><td>Allison, Master. Hudson Trevor      </td><td>male  </td><td> 0.9167</td><td>1</td><td>2</td><td>113781</td><td>151.55</td><td>C22 C26</td><td>S</td><td>11</td><td> NA</td><td>Montreal, PQ / Chesterville, ON</td></tr>\n",
       "\t<tr><th scope=row>3</th><td>1</td><td>0</td><td>Allison, Miss. Helen Loraine        </td><td>female</td><td> 2.0000</td><td>1</td><td>2</td><td>113781</td><td>151.55</td><td>C22 C26</td><td>S</td><td>  </td><td> NA</td><td>Montreal, PQ / Chesterville, ON</td></tr>\n",
       "\t<tr><th scope=row>4</th><td>1</td><td>0</td><td>Allison, Mr. Hudson Joshua Creighton</td><td>male  </td><td>30.0000</td><td>1</td><td>2</td><td>113781</td><td>151.55</td><td>C22 C26</td><td>S</td><td>  </td><td>135</td><td>Montreal, PQ / Chesterville, ON</td></tr>\n",
       "</tbody>\n",
       "</table>\n"
      ],
      "text/latex": [
       "A data.frame: 3 × 14\n",
       "\\begin{tabular}{r|llllllllllllll}\n",
       "  & pclass & survived & name & sex & age & sibsp & parch & ticket & fare & cabin & embarked & boat & body & home.dest\\\\\n",
       "  & <int> & <int> & <chr> & <chr> & <dbl> & <int> & <int> & <chr> & <dbl> & <chr> & <chr> & <chr> & <int> & <chr>\\\\\n",
       "\\hline\n",
       "\t2 & 1 & 1 & Allison, Master. Hudson Trevor       & male   &  0.9167 & 1 & 2 & 113781 & 151.55 & C22 C26 & S & 11 &  NA & Montreal, PQ / Chesterville, ON\\\\\n",
       "\t3 & 1 & 0 & Allison, Miss. Helen Loraine         & female &  2.0000 & 1 & 2 & 113781 & 151.55 & C22 C26 & S &    &  NA & Montreal, PQ / Chesterville, ON\\\\\n",
       "\t4 & 1 & 0 & Allison, Mr. Hudson Joshua Creighton & male   & 30.0000 & 1 & 2 & 113781 & 151.55 & C22 C26 & S &    & 135 & Montreal, PQ / Chesterville, ON\\\\\n",
       "\\end{tabular}\n"
      ],
      "text/markdown": [
       "\n",
       "A data.frame: 3 × 14\n",
       "\n",
       "| <!--/--> | pclass &lt;int&gt; | survived &lt;int&gt; | name &lt;chr&gt; | sex &lt;chr&gt; | age &lt;dbl&gt; | sibsp &lt;int&gt; | parch &lt;int&gt; | ticket &lt;chr&gt; | fare &lt;dbl&gt; | cabin &lt;chr&gt; | embarked &lt;chr&gt; | boat &lt;chr&gt; | body &lt;int&gt; | home.dest &lt;chr&gt; |\n",
       "|---|---|---|---|---|---|---|---|---|---|---|---|---|---|---|\n",
       "| 2 | 1 | 1 | Allison, Master. Hudson Trevor       | male   |  0.9167 | 1 | 2 | 113781 | 151.55 | C22 C26 | S | 11 |  NA | Montreal, PQ / Chesterville, ON |\n",
       "| 3 | 1 | 0 | Allison, Miss. Helen Loraine         | female |  2.0000 | 1 | 2 | 113781 | 151.55 | C22 C26 | S | <!----> |  NA | Montreal, PQ / Chesterville, ON |\n",
       "| 4 | 1 | 0 | Allison, Mr. Hudson Joshua Creighton | male   | 30.0000 | 1 | 2 | 113781 | 151.55 | C22 C26 | S | <!----> | 135 | Montreal, PQ / Chesterville, ON |\n",
       "\n"
      ],
      "text/plain": [
       "  pclass survived name                                 sex    age     sibsp\n",
       "2 1      1        Allison, Master. Hudson Trevor       male    0.9167 1    \n",
       "3 1      0        Allison, Miss. Helen Loraine         female  2.0000 1    \n",
       "4 1      0        Allison, Mr. Hudson Joshua Creighton male   30.0000 1    \n",
       "  parch ticket fare   cabin   embarked boat body\n",
       "2 2     113781 151.55 C22 C26 S        11    NA \n",
       "3 2     113781 151.55 C22 C26 S              NA \n",
       "4 2     113781 151.55 C22 C26 S             135 \n",
       "  home.dest                      \n",
       "2 Montreal, PQ / Chesterville, ON\n",
       "3 Montreal, PQ / Chesterville, ON\n",
       "4 Montreal, PQ / Chesterville, ON"
      ]
     },
     "metadata": {},
     "output_type": "display_data"
    }
   ],
   "source": [
    "# Select rows by number\n",
    "df[2:4,]"
   ]
  },
  {
   "cell_type": "code",
   "execution_count": 8,
   "metadata": {
    "scrolled": true
   },
   "outputs": [
    {
     "data": {
      "text/html": [
       "<table class=\"dataframe\">\n",
       "<caption>A data.frame: 3 × 14</caption>\n",
       "<thead>\n",
       "\t<tr><th></th><th scope=col>pclass</th><th scope=col>survived</th><th scope=col>name</th><th scope=col>sex</th><th scope=col>age</th><th scope=col>sibsp</th><th scope=col>parch</th><th scope=col>ticket</th><th scope=col>fare</th><th scope=col>cabin</th><th scope=col>embarked</th><th scope=col>boat</th><th scope=col>body</th><th scope=col>home.dest</th></tr>\n",
       "\t<tr><th></th><th scope=col>&lt;int&gt;</th><th scope=col>&lt;int&gt;</th><th scope=col>&lt;chr&gt;</th><th scope=col>&lt;chr&gt;</th><th scope=col>&lt;dbl&gt;</th><th scope=col>&lt;int&gt;</th><th scope=col>&lt;int&gt;</th><th scope=col>&lt;chr&gt;</th><th scope=col>&lt;dbl&gt;</th><th scope=col>&lt;chr&gt;</th><th scope=col>&lt;chr&gt;</th><th scope=col>&lt;chr&gt;</th><th scope=col>&lt;int&gt;</th><th scope=col>&lt;chr&gt;</th></tr>\n",
       "</thead>\n",
       "<tbody>\n",
       "\t<tr><th scope=row>1</th><td>1</td><td>1</td><td>Allen, Miss. Elisabeth Walton </td><td>female</td><td>29.0000</td><td>0</td><td>0</td><td>24160 </td><td>211.3375</td><td>B5     </td><td>S</td><td>2 </td><td>NA</td><td>St Louis, MO                   </td></tr>\n",
       "\t<tr><th scope=row>2</th><td>1</td><td>1</td><td>Allison, Master. Hudson Trevor</td><td>male  </td><td> 0.9167</td><td>1</td><td>2</td><td>113781</td><td>151.5500</td><td>C22 C26</td><td>S</td><td>11</td><td>NA</td><td>Montreal, PQ / Chesterville, ON</td></tr>\n",
       "\t<tr><th scope=row>6</th><td>1</td><td>1</td><td>Anderson, Mr. Harry           </td><td>male  </td><td>48.0000</td><td>0</td><td>0</td><td>19952 </td><td> 26.5500</td><td>E12    </td><td>S</td><td>3 </td><td>NA</td><td>New York, NY                   </td></tr>\n",
       "</tbody>\n",
       "</table>\n"
      ],
      "text/latex": [
       "A data.frame: 3 × 14\n",
       "\\begin{tabular}{r|llllllllllllll}\n",
       "  & pclass & survived & name & sex & age & sibsp & parch & ticket & fare & cabin & embarked & boat & body & home.dest\\\\\n",
       "  & <int> & <int> & <chr> & <chr> & <dbl> & <int> & <int> & <chr> & <dbl> & <chr> & <chr> & <chr> & <int> & <chr>\\\\\n",
       "\\hline\n",
       "\t1 & 1 & 1 & Allen, Miss. Elisabeth Walton  & female & 29.0000 & 0 & 0 & 24160  & 211.3375 & B5      & S & 2  & NA & St Louis, MO                   \\\\\n",
       "\t2 & 1 & 1 & Allison, Master. Hudson Trevor & male   &  0.9167 & 1 & 2 & 113781 & 151.5500 & C22 C26 & S & 11 & NA & Montreal, PQ / Chesterville, ON\\\\\n",
       "\t6 & 1 & 1 & Anderson, Mr. Harry            & male   & 48.0000 & 0 & 0 & 19952  &  26.5500 & E12     & S & 3  & NA & New York, NY                   \\\\\n",
       "\\end{tabular}\n"
      ],
      "text/markdown": [
       "\n",
       "A data.frame: 3 × 14\n",
       "\n",
       "| <!--/--> | pclass &lt;int&gt; | survived &lt;int&gt; | name &lt;chr&gt; | sex &lt;chr&gt; | age &lt;dbl&gt; | sibsp &lt;int&gt; | parch &lt;int&gt; | ticket &lt;chr&gt; | fare &lt;dbl&gt; | cabin &lt;chr&gt; | embarked &lt;chr&gt; | boat &lt;chr&gt; | body &lt;int&gt; | home.dest &lt;chr&gt; |\n",
       "|---|---|---|---|---|---|---|---|---|---|---|---|---|---|---|\n",
       "| 1 | 1 | 1 | Allen, Miss. Elisabeth Walton  | female | 29.0000 | 0 | 0 | 24160  | 211.3375 | B5      | S | 2  | NA | St Louis, MO                    |\n",
       "| 2 | 1 | 1 | Allison, Master. Hudson Trevor | male   |  0.9167 | 1 | 2 | 113781 | 151.5500 | C22 C26 | S | 11 | NA | Montreal, PQ / Chesterville, ON |\n",
       "| 6 | 1 | 1 | Anderson, Mr. Harry            | male   | 48.0000 | 0 | 0 | 19952  |  26.5500 | E12     | S | 3  | NA | New York, NY                    |\n",
       "\n"
      ],
      "text/plain": [
       "  pclass survived name                           sex    age     sibsp parch\n",
       "1 1      1        Allen, Miss. Elisabeth Walton  female 29.0000 0     0    \n",
       "2 1      1        Allison, Master. Hudson Trevor male    0.9167 1     2    \n",
       "6 1      1        Anderson, Mr. Harry            male   48.0000 0     0    \n",
       "  ticket fare     cabin   embarked boat body home.dest                      \n",
       "1 24160  211.3375 B5      S        2    NA   St Louis, MO                   \n",
       "2 113781 151.5500 C22 C26 S        11   NA   Montreal, PQ / Chesterville, ON\n",
       "6 19952   26.5500 E12     S        3    NA   New York, NY                   "
      ]
     },
     "metadata": {},
     "output_type": "display_data"
    }
   ],
   "source": [
    "# Select rows by condition\n",
    "df[df[, \"survived\"] == 1,] %>% head(3)"
   ]
  },
  {
   "cell_type": "code",
   "execution_count": 9,
   "metadata": {},
   "outputs": [
    {
     "data": {
      "text/html": [
       "<table class=\"dataframe\">\n",
       "<caption>A data.frame: 3 × 14</caption>\n",
       "<thead>\n",
       "\t<tr><th></th><th scope=col>pclass</th><th scope=col>survived</th><th scope=col>name</th><th scope=col>sex</th><th scope=col>age</th><th scope=col>sibsp</th><th scope=col>parch</th><th scope=col>ticket</th><th scope=col>fare</th><th scope=col>cabin</th><th scope=col>embarked</th><th scope=col>boat</th><th scope=col>body</th><th scope=col>home.dest</th></tr>\n",
       "\t<tr><th></th><th scope=col>&lt;int&gt;</th><th scope=col>&lt;int&gt;</th><th scope=col>&lt;chr&gt;</th><th scope=col>&lt;chr&gt;</th><th scope=col>&lt;dbl&gt;</th><th scope=col>&lt;int&gt;</th><th scope=col>&lt;int&gt;</th><th scope=col>&lt;chr&gt;</th><th scope=col>&lt;dbl&gt;</th><th scope=col>&lt;chr&gt;</th><th scope=col>&lt;chr&gt;</th><th scope=col>&lt;chr&gt;</th><th scope=col>&lt;int&gt;</th><th scope=col>&lt;chr&gt;</th></tr>\n",
       "</thead>\n",
       "<tbody>\n",
       "\t<tr><th scope=row>1</th><td>1</td><td>1</td><td>Allen, Miss. Elisabeth Walton                </td><td>female</td><td>29</td><td>0</td><td>0</td><td>24160</td><td>211.3375</td><td>B5  </td><td>S</td><td>2 </td><td>NA</td><td>St Louis, MO       </td></tr>\n",
       "\t<tr><th scope=row>7</th><td>1</td><td>1</td><td>Andrews, Miss. Kornelia Theodosia            </td><td>female</td><td>63</td><td>1</td><td>0</td><td>13502</td><td> 77.9583</td><td>D7  </td><td>S</td><td>10</td><td>NA</td><td>Hudson, NY         </td></tr>\n",
       "\t<tr><th scope=row>9</th><td>1</td><td>1</td><td>Appleton, Mrs. Edward Dale (Charlotte Lamson)</td><td>female</td><td>53</td><td>2</td><td>0</td><td>11769</td><td> 51.4792</td><td>C101</td><td>S</td><td>D </td><td>NA</td><td>Bayside, Queens, NY</td></tr>\n",
       "</tbody>\n",
       "</table>\n"
      ],
      "text/latex": [
       "A data.frame: 3 × 14\n",
       "\\begin{tabular}{r|llllllllllllll}\n",
       "  & pclass & survived & name & sex & age & sibsp & parch & ticket & fare & cabin & embarked & boat & body & home.dest\\\\\n",
       "  & <int> & <int> & <chr> & <chr> & <dbl> & <int> & <int> & <chr> & <dbl> & <chr> & <chr> & <chr> & <int> & <chr>\\\\\n",
       "\\hline\n",
       "\t1 & 1 & 1 & Allen, Miss. Elisabeth Walton                 & female & 29 & 0 & 0 & 24160 & 211.3375 & B5   & S & 2  & NA & St Louis, MO       \\\\\n",
       "\t7 & 1 & 1 & Andrews, Miss. Kornelia Theodosia             & female & 63 & 1 & 0 & 13502 &  77.9583 & D7   & S & 10 & NA & Hudson, NY         \\\\\n",
       "\t9 & 1 & 1 & Appleton, Mrs. Edward Dale (Charlotte Lamson) & female & 53 & 2 & 0 & 11769 &  51.4792 & C101 & S & D  & NA & Bayside, Queens, NY\\\\\n",
       "\\end{tabular}\n"
      ],
      "text/markdown": [
       "\n",
       "A data.frame: 3 × 14\n",
       "\n",
       "| <!--/--> | pclass &lt;int&gt; | survived &lt;int&gt; | name &lt;chr&gt; | sex &lt;chr&gt; | age &lt;dbl&gt; | sibsp &lt;int&gt; | parch &lt;int&gt; | ticket &lt;chr&gt; | fare &lt;dbl&gt; | cabin &lt;chr&gt; | embarked &lt;chr&gt; | boat &lt;chr&gt; | body &lt;int&gt; | home.dest &lt;chr&gt; |\n",
       "|---|---|---|---|---|---|---|---|---|---|---|---|---|---|---|\n",
       "| 1 | 1 | 1 | Allen, Miss. Elisabeth Walton                 | female | 29 | 0 | 0 | 24160 | 211.3375 | B5   | S | 2  | NA | St Louis, MO        |\n",
       "| 7 | 1 | 1 | Andrews, Miss. Kornelia Theodosia             | female | 63 | 1 | 0 | 13502 |  77.9583 | D7   | S | 10 | NA | Hudson, NY          |\n",
       "| 9 | 1 | 1 | Appleton, Mrs. Edward Dale (Charlotte Lamson) | female | 53 | 2 | 0 | 11769 |  51.4792 | C101 | S | D  | NA | Bayside, Queens, NY |\n",
       "\n"
      ],
      "text/plain": [
       "  pclass survived name                                          sex    age\n",
       "1 1      1        Allen, Miss. Elisabeth Walton                 female 29 \n",
       "7 1      1        Andrews, Miss. Kornelia Theodosia             female 63 \n",
       "9 1      1        Appleton, Mrs. Edward Dale (Charlotte Lamson) female 53 \n",
       "  sibsp parch ticket fare     cabin embarked boat body home.dest          \n",
       "1 0     0     24160  211.3375 B5    S        2    NA   St Louis, MO       \n",
       "7 1     0     13502   77.9583 D7    S        10   NA   Hudson, NY         \n",
       "9 2     0     11769   51.4792 C101  S        D    NA   Bayside, Queens, NY"
      ]
     },
     "metadata": {},
     "output_type": "display_data"
    }
   ],
   "source": [
    "# Select rows by multiple conditions\n",
    "df[df[, \"survived\"] == 1 & df[, \"sex\"] == \"female\",] %>% head(3)"
   ]
  },
  {
   "cell_type": "code",
   "execution_count": 10,
   "metadata": {},
   "outputs": [
    {
     "data": {
      "text/html": [
       "<table class=\"dataframe\">\n",
       "<caption>A data.frame: 3 × 2</caption>\n",
       "<thead>\n",
       "\t<tr><th></th><th scope=col>survived</th><th scope=col>pclass</th></tr>\n",
       "\t<tr><th></th><th scope=col>&lt;int&gt;</th><th scope=col>&lt;int&gt;</th></tr>\n",
       "</thead>\n",
       "<tbody>\n",
       "\t<tr><th scope=row>1</th><td>1</td><td>1</td></tr>\n",
       "\t<tr><th scope=row>2</th><td>1</td><td>1</td></tr>\n",
       "\t<tr><th scope=row>3</th><td>0</td><td>1</td></tr>\n",
       "</tbody>\n",
       "</table>\n"
      ],
      "text/latex": [
       "A data.frame: 3 × 2\n",
       "\\begin{tabular}{r|ll}\n",
       "  & survived & pclass\\\\\n",
       "  & <int> & <int>\\\\\n",
       "\\hline\n",
       "\t1 & 1 & 1\\\\\n",
       "\t2 & 1 & 1\\\\\n",
       "\t3 & 0 & 1\\\\\n",
       "\\end{tabular}\n"
      ],
      "text/markdown": [
       "\n",
       "A data.frame: 3 × 2\n",
       "\n",
       "| <!--/--> | survived &lt;int&gt; | pclass &lt;int&gt; |\n",
       "|---|---|---|\n",
       "| 1 | 1 | 1 |\n",
       "| 2 | 1 | 1 |\n",
       "| 3 | 0 | 1 |\n",
       "\n"
      ],
      "text/plain": [
       "  survived pclass\n",
       "1 1        1     \n",
       "2 1        1     \n",
       "3 0        1     "
      ]
     },
     "metadata": {},
     "output_type": "display_data"
    }
   ],
   "source": [
    "# Select columns by name\n",
    "df[, c(\"survived\", \"pclass\")] %>% head(3)"
   ]
  },
  {
   "cell_type": "markdown",
   "metadata": {},
   "source": [
    "## Assign values"
   ]
  },
  {
   "cell_type": "code",
   "execution_count": 11,
   "metadata": {},
   "outputs": [
    {
     "data": {
      "text/html": [
       "<table class=\"dataframe\">\n",
       "<caption>A data.frame: 3 × 15</caption>\n",
       "<thead>\n",
       "\t<tr><th></th><th scope=col>pclass</th><th scope=col>survived</th><th scope=col>name</th><th scope=col>sex</th><th scope=col>age</th><th scope=col>sibsp</th><th scope=col>parch</th><th scope=col>ticket</th><th scope=col>fare</th><th scope=col>cabin</th><th scope=col>embarked</th><th scope=col>boat</th><th scope=col>body</th><th scope=col>home.dest</th><th scope=col>sparkles</th></tr>\n",
       "\t<tr><th></th><th scope=col>&lt;int&gt;</th><th scope=col>&lt;int&gt;</th><th scope=col>&lt;chr&gt;</th><th scope=col>&lt;chr&gt;</th><th scope=col>&lt;dbl&gt;</th><th scope=col>&lt;int&gt;</th><th scope=col>&lt;int&gt;</th><th scope=col>&lt;chr&gt;</th><th scope=col>&lt;dbl&gt;</th><th scope=col>&lt;chr&gt;</th><th scope=col>&lt;chr&gt;</th><th scope=col>&lt;chr&gt;</th><th scope=col>&lt;int&gt;</th><th scope=col>&lt;chr&gt;</th><th scope=col>&lt;dbl&gt;</th></tr>\n",
       "</thead>\n",
       "<tbody>\n",
       "\t<tr><th scope=row>1</th><td>1</td><td>1</td><td>Allen, Miss. Elisabeth Walton </td><td>female</td><td>29.0000</td><td>0</td><td>0</td><td>24160 </td><td>211.3375</td><td>B5     </td><td>S</td><td>2 </td><td>NA</td><td>St Louis, MO                   </td><td>8</td></tr>\n",
       "\t<tr><th scope=row>2</th><td>1</td><td>1</td><td>Allison, Master. Hudson Trevor</td><td>male  </td><td> 0.9167</td><td>1</td><td>2</td><td>113781</td><td>151.5500</td><td>C22 C26</td><td>S</td><td>11</td><td>NA</td><td>Montreal, PQ / Chesterville, ON</td><td>8</td></tr>\n",
       "\t<tr><th scope=row>3</th><td>1</td><td>0</td><td>Allison, Miss. Helen Loraine  </td><td>female</td><td> 2.0000</td><td>1</td><td>2</td><td>113781</td><td>151.5500</td><td>C22 C26</td><td>S</td><td>  </td><td>NA</td><td>Montreal, PQ / Chesterville, ON</td><td>8</td></tr>\n",
       "</tbody>\n",
       "</table>\n"
      ],
      "text/latex": [
       "A data.frame: 3 × 15\n",
       "\\begin{tabular}{r|lllllllllllllll}\n",
       "  & pclass & survived & name & sex & age & sibsp & parch & ticket & fare & cabin & embarked & boat & body & home.dest & sparkles\\\\\n",
       "  & <int> & <int> & <chr> & <chr> & <dbl> & <int> & <int> & <chr> & <dbl> & <chr> & <chr> & <chr> & <int> & <chr> & <dbl>\\\\\n",
       "\\hline\n",
       "\t1 & 1 & 1 & Allen, Miss. Elisabeth Walton  & female & 29.0000 & 0 & 0 & 24160  & 211.3375 & B5      & S & 2  & NA & St Louis, MO                    & 8\\\\\n",
       "\t2 & 1 & 1 & Allison, Master. Hudson Trevor & male   &  0.9167 & 1 & 2 & 113781 & 151.5500 & C22 C26 & S & 11 & NA & Montreal, PQ / Chesterville, ON & 8\\\\\n",
       "\t3 & 1 & 0 & Allison, Miss. Helen Loraine   & female &  2.0000 & 1 & 2 & 113781 & 151.5500 & C22 C26 & S &    & NA & Montreal, PQ / Chesterville, ON & 8\\\\\n",
       "\\end{tabular}\n"
      ],
      "text/markdown": [
       "\n",
       "A data.frame: 3 × 15\n",
       "\n",
       "| <!--/--> | pclass &lt;int&gt; | survived &lt;int&gt; | name &lt;chr&gt; | sex &lt;chr&gt; | age &lt;dbl&gt; | sibsp &lt;int&gt; | parch &lt;int&gt; | ticket &lt;chr&gt; | fare &lt;dbl&gt; | cabin &lt;chr&gt; | embarked &lt;chr&gt; | boat &lt;chr&gt; | body &lt;int&gt; | home.dest &lt;chr&gt; | sparkles &lt;dbl&gt; |\n",
       "|---|---|---|---|---|---|---|---|---|---|---|---|---|---|---|---|\n",
       "| 1 | 1 | 1 | Allen, Miss. Elisabeth Walton  | female | 29.0000 | 0 | 0 | 24160  | 211.3375 | B5      | S | 2  | NA | St Louis, MO                    | 8 |\n",
       "| 2 | 1 | 1 | Allison, Master. Hudson Trevor | male   |  0.9167 | 1 | 2 | 113781 | 151.5500 | C22 C26 | S | 11 | NA | Montreal, PQ / Chesterville, ON | 8 |\n",
       "| 3 | 1 | 0 | Allison, Miss. Helen Loraine   | female |  2.0000 | 1 | 2 | 113781 | 151.5500 | C22 C26 | S | <!----> | NA | Montreal, PQ / Chesterville, ON | 8 |\n",
       "\n"
      ],
      "text/plain": [
       "  pclass survived name                           sex    age     sibsp parch\n",
       "1 1      1        Allen, Miss. Elisabeth Walton  female 29.0000 0     0    \n",
       "2 1      1        Allison, Master. Hudson Trevor male    0.9167 1     2    \n",
       "3 1      0        Allison, Miss. Helen Loraine   female  2.0000 1     2    \n",
       "  ticket fare     cabin   embarked boat body home.dest                      \n",
       "1 24160  211.3375 B5      S        2    NA   St Louis, MO                   \n",
       "2 113781 151.5500 C22 C26 S        11   NA   Montreal, PQ / Chesterville, ON\n",
       "3 113781 151.5500 C22 C26 S             NA   Montreal, PQ / Chesterville, ON\n",
       "  sparkles\n",
       "1 8       \n",
       "2 8       \n",
       "3 8       "
      ]
     },
     "metadata": {},
     "output_type": "display_data"
    }
   ],
   "source": [
    "# Assign a (new) column\n",
    "df$sparkles <- 8\n",
    "head(df, 3)"
   ]
  },
  {
   "cell_type": "code",
   "execution_count": 12,
   "metadata": {
    "scrolled": true
   },
   "outputs": [
    {
     "data": {
      "text/html": [
       "<table class=\"dataframe\">\n",
       "<caption>A data.frame: 3 × 15</caption>\n",
       "<thead>\n",
       "\t<tr><th></th><th scope=col>pclass</th><th scope=col>survived</th><th scope=col>name</th><th scope=col>sex</th><th scope=col>age</th><th scope=col>sibsp</th><th scope=col>parch</th><th scope=col>ticket</th><th scope=col>fare</th><th scope=col>cabin</th><th scope=col>embarked</th><th scope=col>boat</th><th scope=col>body</th><th scope=col>home.dest</th><th scope=col>sparkles</th></tr>\n",
       "\t<tr><th></th><th scope=col>&lt;int&gt;</th><th scope=col>&lt;int&gt;</th><th scope=col>&lt;chr&gt;</th><th scope=col>&lt;chr&gt;</th><th scope=col>&lt;dbl&gt;</th><th scope=col>&lt;int&gt;</th><th scope=col>&lt;int&gt;</th><th scope=col>&lt;chr&gt;</th><th scope=col>&lt;dbl&gt;</th><th scope=col>&lt;chr&gt;</th><th scope=col>&lt;chr&gt;</th><th scope=col>&lt;chr&gt;</th><th scope=col>&lt;int&gt;</th><th scope=col>&lt;chr&gt;</th><th scope=col>&lt;dbl&gt;</th></tr>\n",
       "</thead>\n",
       "<tbody>\n",
       "\t<tr><th scope=row>1</th><td>1</td><td>1</td><td>Allen, Miss. Elisabeth Walton </td><td>female</td><td>29.0000</td><td>0</td><td>0</td><td>24160 </td><td>211.3375</td><td>B5     </td><td>S</td><td>2 </td><td>NA</td><td>St Louis, MO                   </td><td>3</td></tr>\n",
       "\t<tr><th scope=row>2</th><td>1</td><td>1</td><td>Allison, Master. Hudson Trevor</td><td>male  </td><td> 0.9167</td><td>1</td><td>2</td><td>113781</td><td>151.5500</td><td>C22 C26</td><td>S</td><td>11</td><td>NA</td><td>Montreal, PQ / Chesterville, ON</td><td>3</td></tr>\n",
       "\t<tr><th scope=row>3</th><td>1</td><td>0</td><td>Allison, Miss. Helen Loraine  </td><td>female</td><td> 2.0000</td><td>1</td><td>2</td><td>113781</td><td>151.5500</td><td>C22 C26</td><td>S</td><td>  </td><td>NA</td><td>Montreal, PQ / Chesterville, ON</td><td>8</td></tr>\n",
       "</tbody>\n",
       "</table>\n"
      ],
      "text/latex": [
       "A data.frame: 3 × 15\n",
       "\\begin{tabular}{r|lllllllllllllll}\n",
       "  & pclass & survived & name & sex & age & sibsp & parch & ticket & fare & cabin & embarked & boat & body & home.dest & sparkles\\\\\n",
       "  & <int> & <int> & <chr> & <chr> & <dbl> & <int> & <int> & <chr> & <dbl> & <chr> & <chr> & <chr> & <int> & <chr> & <dbl>\\\\\n",
       "\\hline\n",
       "\t1 & 1 & 1 & Allen, Miss. Elisabeth Walton  & female & 29.0000 & 0 & 0 & 24160  & 211.3375 & B5      & S & 2  & NA & St Louis, MO                    & 3\\\\\n",
       "\t2 & 1 & 1 & Allison, Master. Hudson Trevor & male   &  0.9167 & 1 & 2 & 113781 & 151.5500 & C22 C26 & S & 11 & NA & Montreal, PQ / Chesterville, ON & 3\\\\\n",
       "\t3 & 1 & 0 & Allison, Miss. Helen Loraine   & female &  2.0000 & 1 & 2 & 113781 & 151.5500 & C22 C26 & S &    & NA & Montreal, PQ / Chesterville, ON & 8\\\\\n",
       "\\end{tabular}\n"
      ],
      "text/markdown": [
       "\n",
       "A data.frame: 3 × 15\n",
       "\n",
       "| <!--/--> | pclass &lt;int&gt; | survived &lt;int&gt; | name &lt;chr&gt; | sex &lt;chr&gt; | age &lt;dbl&gt; | sibsp &lt;int&gt; | parch &lt;int&gt; | ticket &lt;chr&gt; | fare &lt;dbl&gt; | cabin &lt;chr&gt; | embarked &lt;chr&gt; | boat &lt;chr&gt; | body &lt;int&gt; | home.dest &lt;chr&gt; | sparkles &lt;dbl&gt; |\n",
       "|---|---|---|---|---|---|---|---|---|---|---|---|---|---|---|---|\n",
       "| 1 | 1 | 1 | Allen, Miss. Elisabeth Walton  | female | 29.0000 | 0 | 0 | 24160  | 211.3375 | B5      | S | 2  | NA | St Louis, MO                    | 3 |\n",
       "| 2 | 1 | 1 | Allison, Master. Hudson Trevor | male   |  0.9167 | 1 | 2 | 113781 | 151.5500 | C22 C26 | S | 11 | NA | Montreal, PQ / Chesterville, ON | 3 |\n",
       "| 3 | 1 | 0 | Allison, Miss. Helen Loraine   | female |  2.0000 | 1 | 2 | 113781 | 151.5500 | C22 C26 | S | <!----> | NA | Montreal, PQ / Chesterville, ON | 8 |\n",
       "\n"
      ],
      "text/plain": [
       "  pclass survived name                           sex    age     sibsp parch\n",
       "1 1      1        Allen, Miss. Elisabeth Walton  female 29.0000 0     0    \n",
       "2 1      1        Allison, Master. Hudson Trevor male    0.9167 1     2    \n",
       "3 1      0        Allison, Miss. Helen Loraine   female  2.0000 1     2    \n",
       "  ticket fare     cabin   embarked boat body home.dest                      \n",
       "1 24160  211.3375 B5      S        2    NA   St Louis, MO                   \n",
       "2 113781 151.5500 C22 C26 S        11   NA   Montreal, PQ / Chesterville, ON\n",
       "3 113781 151.5500 C22 C26 S             NA   Montreal, PQ / Chesterville, ON\n",
       "  sparkles\n",
       "1 3       \n",
       "2 3       \n",
       "3 8       "
      ]
     },
     "metadata": {},
     "output_type": "display_data"
    }
   ],
   "source": [
    "# Assign value to some rows\n",
    "df[df[, \"survived\"] == 1, \"sparkles\"] <- 3\n",
    "head(df, 3)"
   ]
  },
  {
   "cell_type": "markdown",
   "metadata": {},
   "source": [
    "## Group by"
   ]
  },
  {
   "cell_type": "code",
   "execution_count": null,
   "metadata": {},
   "outputs": [],
   "source": []
  },
  {
   "cell_type": "markdown",
   "metadata": {},
   "source": [
    "## Reshape"
   ]
  },
  {
   "cell_type": "code",
   "execution_count": 13,
   "metadata": {},
   "outputs": [],
   "source": [
    "# Gather / melt"
   ]
  },
  {
   "cell_type": "code",
   "execution_count": 14,
   "metadata": {},
   "outputs": [],
   "source": [
    "# Spread / cast / pivot"
   ]
  },
  {
   "cell_type": "markdown",
   "metadata": {},
   "source": [
    "## Join"
   ]
  },
  {
   "cell_type": "code",
   "execution_count": null,
   "metadata": {},
   "outputs": [],
   "source": []
  },
  {
   "cell_type": "markdown",
   "metadata": {},
   "source": [
    "## Creation"
   ]
  },
  {
   "cell_type": "code",
   "execution_count": 15,
   "metadata": {},
   "outputs": [
    {
     "data": {
      "text/html": [
       "<table class=\"dataframe\">\n",
       "<caption>A data.frame: 3 × 3</caption>\n",
       "<thead>\n",
       "\t<tr><th scope=col>x</th><th scope=col>y</th><th scope=col>z</th></tr>\n",
       "\t<tr><th scope=col>&lt;dbl&gt;</th><th scope=col>&lt;chr&gt;</th><th scope=col>&lt;lgl&gt;</th></tr>\n",
       "</thead>\n",
       "<tbody>\n",
       "\t<tr><td>1</td><td>a</td><td> TRUE</td></tr>\n",
       "\t<tr><td>2</td><td>b</td><td>FALSE</td></tr>\n",
       "\t<tr><td>3</td><td>c</td><td> TRUE</td></tr>\n",
       "</tbody>\n",
       "</table>\n"
      ],
      "text/latex": [
       "A data.frame: 3 × 3\n",
       "\\begin{tabular}{lll}\n",
       " x & y & z\\\\\n",
       " <dbl> & <chr> & <lgl>\\\\\n",
       "\\hline\n",
       "\t 1 & a &  TRUE\\\\\n",
       "\t 2 & b & FALSE\\\\\n",
       "\t 3 & c &  TRUE\\\\\n",
       "\\end{tabular}\n"
      ],
      "text/markdown": [
       "\n",
       "A data.frame: 3 × 3\n",
       "\n",
       "| x &lt;dbl&gt; | y &lt;chr&gt; | z &lt;lgl&gt; |\n",
       "|---|---|---|\n",
       "| 1 | a |  TRUE |\n",
       "| 2 | b | FALSE |\n",
       "| 3 | c |  TRUE |\n",
       "\n"
      ],
      "text/plain": [
       "  x y z    \n",
       "1 1 a  TRUE\n",
       "2 2 b FALSE\n",
       "3 3 c  TRUE"
      ]
     },
     "metadata": {},
     "output_type": "display_data"
    }
   ],
   "source": [
    "df2 <- data.frame(\n",
    "    x = c(1,2,3)\n",
    "    , y = c('a', 'b', 'c')\n",
    "    , z = c(TRUE, FALSE, TRUE)\n",
    ")\n",
    "df2"
   ]
  }
 ],
 "metadata": {
  "kernelspec": {
   "display_name": "R",
   "language": "R",
   "name": "ir"
  },
  "language_info": {
   "codemirror_mode": "r",
   "file_extension": ".r",
   "mimetype": "text/x-r-source",
   "name": "R",
   "pygments_lexer": "r",
   "version": "4.0.3"
  }
 },
 "nbformat": 4,
 "nbformat_minor": 4
}
