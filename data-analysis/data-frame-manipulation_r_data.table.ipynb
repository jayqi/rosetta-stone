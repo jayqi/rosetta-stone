{
 "cells": [
  {
   "cell_type": "markdown",
   "metadata": {},
   "source": [
    "# Data Frame Manipulation -- R data.table\n",
    "Basic data frame manipulation using base R data.table."
   ]
  },
  {
   "cell_type": "code",
   "execution_count": 1,
   "metadata": {},
   "outputs": [],
   "source": [
    "library(data.table)\n",
    "library(magrittr)"
   ]
  },
  {
   "cell_type": "markdown",
   "metadata": {},
   "source": [
    "## Load csv"
   ]
  },
  {
   "cell_type": "code",
   "execution_count": 2,
   "metadata": {},
   "outputs": [
    {
     "data": {
      "text/html": [
       "<table>\n",
       "<caption>A data.table: 3 × 14</caption>\n",
       "<thead>\n",
       "\t<tr><th scope=col>pclass</th><th scope=col>survived</th><th scope=col>name</th><th scope=col>sex</th><th scope=col>age</th><th scope=col>sibsp</th><th scope=col>parch</th><th scope=col>ticket</th><th scope=col>fare</th><th scope=col>cabin</th><th scope=col>embarked</th><th scope=col>boat</th><th scope=col>body</th><th scope=col>home.dest</th></tr>\n",
       "\t<tr><th scope=col>&lt;int&gt;</th><th scope=col>&lt;int&gt;</th><th scope=col>&lt;chr&gt;</th><th scope=col>&lt;chr&gt;</th><th scope=col>&lt;dbl&gt;</th><th scope=col>&lt;int&gt;</th><th scope=col>&lt;int&gt;</th><th scope=col>&lt;chr&gt;</th><th scope=col>&lt;dbl&gt;</th><th scope=col>&lt;chr&gt;</th><th scope=col>&lt;chr&gt;</th><th scope=col>&lt;chr&gt;</th><th scope=col>&lt;int&gt;</th><th scope=col>&lt;chr&gt;</th></tr>\n",
       "</thead>\n",
       "<tbody>\n",
       "\t<tr><td>1</td><td>1</td><td>Allen, Miss. Elisabeth Walton </td><td>female</td><td>29.0000</td><td>0</td><td>0</td><td>24160 </td><td>211.3375</td><td>B5     </td><td>S</td><td>2 </td><td>NA</td><td>St Louis, MO                   </td></tr>\n",
       "\t<tr><td>1</td><td>1</td><td>Allison, Master. Hudson Trevor</td><td>male  </td><td> 0.9167</td><td>1</td><td>2</td><td>113781</td><td>151.5500</td><td>C22 C26</td><td>S</td><td>11</td><td>NA</td><td>Montreal, PQ / Chesterville, ON</td></tr>\n",
       "\t<tr><td>1</td><td>0</td><td>Allison, Miss. Helen Loraine  </td><td>female</td><td> 2.0000</td><td>1</td><td>2</td><td>113781</td><td>151.5500</td><td>C22 C26</td><td>S</td><td>  </td><td>NA</td><td>Montreal, PQ / Chesterville, ON</td></tr>\n",
       "</tbody>\n",
       "</table>\n"
      ],
      "text/latex": [
       "A data.table: 3 × 14\n",
       "\\begin{tabular}{r|llllllllllllll}\n",
       " pclass & survived & name & sex & age & sibsp & parch & ticket & fare & cabin & embarked & boat & body & home.dest\\\\\n",
       " <int> & <int> & <chr> & <chr> & <dbl> & <int> & <int> & <chr> & <dbl> & <chr> & <chr> & <chr> & <int> & <chr>\\\\\n",
       "\\hline\n",
       "\t 1 & 1 & Allen, Miss. Elisabeth Walton  & female & 29.0000 & 0 & 0 & 24160  & 211.3375 & B5      & S & 2  & NA & St Louis, MO                   \\\\\n",
       "\t 1 & 1 & Allison, Master. Hudson Trevor & male   &  0.9167 & 1 & 2 & 113781 & 151.5500 & C22 C26 & S & 11 & NA & Montreal, PQ / Chesterville, ON\\\\\n",
       "\t 1 & 0 & Allison, Miss. Helen Loraine   & female &  2.0000 & 1 & 2 & 113781 & 151.5500 & C22 C26 & S &    & NA & Montreal, PQ / Chesterville, ON\\\\\n",
       "\\end{tabular}\n"
      ],
      "text/markdown": [
       "\n",
       "A data.table: 3 × 14\n",
       "\n",
       "| pclass &lt;int&gt; | survived &lt;int&gt; | name &lt;chr&gt; | sex &lt;chr&gt; | age &lt;dbl&gt; | sibsp &lt;int&gt; | parch &lt;int&gt; | ticket &lt;chr&gt; | fare &lt;dbl&gt; | cabin &lt;chr&gt; | embarked &lt;chr&gt; | boat &lt;chr&gt; | body &lt;int&gt; | home.dest &lt;chr&gt; |\n",
       "|---|---|---|---|---|---|---|---|---|---|---|---|---|---|\n",
       "| 1 | 1 | Allen, Miss. Elisabeth Walton  | female | 29.0000 | 0 | 0 | 24160  | 211.3375 | B5      | S | 2  | NA | St Louis, MO                    |\n",
       "| 1 | 1 | Allison, Master. Hudson Trevor | male   |  0.9167 | 1 | 2 | 113781 | 151.5500 | C22 C26 | S | 11 | NA | Montreal, PQ / Chesterville, ON |\n",
       "| 1 | 0 | Allison, Miss. Helen Loraine   | female |  2.0000 | 1 | 2 | 113781 | 151.5500 | C22 C26 | S | <!----> | NA | Montreal, PQ / Chesterville, ON |\n",
       "\n"
      ],
      "text/plain": [
       "  pclass survived name                           sex    age     sibsp parch\n",
       "1 1      1        Allen, Miss. Elisabeth Walton  female 29.0000 0     0    \n",
       "2 1      1        Allison, Master. Hudson Trevor male    0.9167 1     2    \n",
       "3 1      0        Allison, Miss. Helen Loraine   female  2.0000 1     2    \n",
       "  ticket fare     cabin   embarked boat body home.dest                      \n",
       "1 24160  211.3375 B5      S        2    NA   St Louis, MO                   \n",
       "2 113781 151.5500 C22 C26 S        11   NA   Montreal, PQ / Chesterville, ON\n",
       "3 113781 151.5500 C22 C26 S             NA   Montreal, PQ / Chesterville, ON"
      ]
     },
     "metadata": {},
     "output_type": "display_data"
    }
   ],
   "source": [
    "dt <- data.table::fread(\"../_data/titanic.csv\")\n",
    "head(dt, 3)"
   ]
  },
  {
   "cell_type": "markdown",
   "metadata": {},
   "source": [
    "## Summary"
   ]
  },
  {
   "cell_type": "code",
   "execution_count": 3,
   "metadata": {},
   "outputs": [
    {
     "data": {
      "text/html": [
       "1309"
      ],
      "text/latex": [
       "1309"
      ],
      "text/markdown": [
       "1309"
      ],
      "text/plain": [
       "[1] 1309"
      ]
     },
     "metadata": {},
     "output_type": "display_data"
    }
   ],
   "source": [
    "# Rows\n",
    "nrow(dt)"
   ]
  },
  {
   "cell_type": "code",
   "execution_count": 4,
   "metadata": {},
   "outputs": [
    {
     "data": {
      "text/html": [
       "14"
      ],
      "text/latex": [
       "14"
      ],
      "text/markdown": [
       "14"
      ],
      "text/plain": [
       "[1] 14"
      ]
     },
     "metadata": {},
     "output_type": "display_data"
    }
   ],
   "source": [
    "# Columns\n",
    "length(dt)"
   ]
  },
  {
   "cell_type": "code",
   "execution_count": 5,
   "metadata": {},
   "outputs": [
    {
     "name": "stdout",
     "output_type": "stream",
     "text": [
      "Classes ‘data.table’ and 'data.frame':\t1309 obs. of  14 variables:\n",
      " $ pclass   : int  1 1 1 1 1 1 1 1 1 1 ...\n",
      " $ survived : int  1 1 0 0 0 1 1 0 1 0 ...\n",
      " $ name     : chr  \"Allen, Miss. Elisabeth Walton\" \"Allison, Master. Hudson Trevor\" \"Allison, Miss. Helen Loraine\" \"Allison, Mr. Hudson Joshua Creighton\" ...\n",
      " $ sex      : chr  \"female\" \"male\" \"female\" \"male\" ...\n",
      " $ age      : num  29 0.917 2 30 25 ...\n",
      " $ sibsp    : int  0 1 1 1 1 0 1 0 2 0 ...\n",
      " $ parch    : int  0 2 2 2 2 0 0 0 0 0 ...\n",
      " $ ticket   : chr  \"24160\" \"113781\" \"113781\" \"113781\" ...\n",
      " $ fare     : num  211 152 152 152 152 ...\n",
      " $ cabin    : chr  \"B5\" \"C22 C26\" \"C22 C26\" \"C22 C26\" ...\n",
      " $ embarked : chr  \"S\" \"S\" \"S\" \"S\" ...\n",
      " $ boat     : chr  \"2\" \"11\" \"\" \"\" ...\n",
      " $ body     : int  NA NA NA 135 NA NA NA NA NA 22 ...\n",
      " $ home.dest: chr  \"St Louis, MO\" \"Montreal, PQ / Chesterville, ON\" \"Montreal, PQ / Chesterville, ON\" \"Montreal, PQ / Chesterville, ON\" ...\n",
      " - attr(*, \".internal.selfref\")=<externalptr> \n"
     ]
    }
   ],
   "source": [
    "# Inspect types\n",
    "str(dt)"
   ]
  },
  {
   "cell_type": "code",
   "execution_count": 6,
   "metadata": {},
   "outputs": [
    {
     "data": {
      "text/plain": [
       "     pclass         survived         name               sex           \n",
       " Min.   :1.000   Min.   :0.000   Length:1309        Length:1309       \n",
       " 1st Qu.:2.000   1st Qu.:0.000   Class :character   Class :character  \n",
       " Median :3.000   Median :0.000   Mode  :character   Mode  :character  \n",
       " Mean   :2.295   Mean   :0.382                                        \n",
       " 3rd Qu.:3.000   3rd Qu.:1.000                                        \n",
       " Max.   :3.000   Max.   :1.000                                        \n",
       "                                                                      \n",
       "      age              sibsp            parch          ticket         \n",
       " Min.   : 0.1667   Min.   :0.0000   Min.   :0.000   Length:1309       \n",
       " 1st Qu.:21.0000   1st Qu.:0.0000   1st Qu.:0.000   Class :character  \n",
       " Median :28.0000   Median :0.0000   Median :0.000   Mode  :character  \n",
       " Mean   :29.8811   Mean   :0.4989   Mean   :0.385                     \n",
       " 3rd Qu.:39.0000   3rd Qu.:1.0000   3rd Qu.:0.000                     \n",
       " Max.   :80.0000   Max.   :8.0000   Max.   :9.000                     \n",
       " NA's   :263                                                          \n",
       "      fare            cabin             embarked             boat          \n",
       " Min.   :  0.000   Length:1309        Length:1309        Length:1309       \n",
       " 1st Qu.:  7.896   Class :character   Class :character   Class :character  \n",
       " Median : 14.454   Mode  :character   Mode  :character   Mode  :character  \n",
       " Mean   : 33.295                                                           \n",
       " 3rd Qu.: 31.275                                                           \n",
       " Max.   :512.329                                                           \n",
       " NA's   :1                                                                 \n",
       "      body        home.dest        \n",
       " Min.   :  1.0   Length:1309       \n",
       " 1st Qu.: 72.0   Class :character  \n",
       " Median :155.0   Mode  :character  \n",
       " Mean   :160.8                     \n",
       " 3rd Qu.:256.0                     \n",
       " Max.   :328.0                     \n",
       " NA's   :1188                      "
      ]
     },
     "metadata": {},
     "output_type": "display_data"
    }
   ],
   "source": [
    "# Descriptive statistics\n",
    "summary(dt)"
   ]
  },
  {
   "cell_type": "markdown",
   "metadata": {},
   "source": [
    "## Slice data"
   ]
  },
  {
   "cell_type": "code",
   "execution_count": 7,
   "metadata": {
    "scrolled": true
   },
   "outputs": [
    {
     "data": {
      "text/html": [
       "<table>\n",
       "<caption>A data.table: 3 × 14</caption>\n",
       "<thead>\n",
       "\t<tr><th scope=col>pclass</th><th scope=col>survived</th><th scope=col>name</th><th scope=col>sex</th><th scope=col>age</th><th scope=col>sibsp</th><th scope=col>parch</th><th scope=col>ticket</th><th scope=col>fare</th><th scope=col>cabin</th><th scope=col>embarked</th><th scope=col>boat</th><th scope=col>body</th><th scope=col>home.dest</th></tr>\n",
       "\t<tr><th scope=col>&lt;int&gt;</th><th scope=col>&lt;int&gt;</th><th scope=col>&lt;chr&gt;</th><th scope=col>&lt;chr&gt;</th><th scope=col>&lt;dbl&gt;</th><th scope=col>&lt;int&gt;</th><th scope=col>&lt;int&gt;</th><th scope=col>&lt;chr&gt;</th><th scope=col>&lt;dbl&gt;</th><th scope=col>&lt;chr&gt;</th><th scope=col>&lt;chr&gt;</th><th scope=col>&lt;chr&gt;</th><th scope=col>&lt;int&gt;</th><th scope=col>&lt;chr&gt;</th></tr>\n",
       "</thead>\n",
       "<tbody>\n",
       "\t<tr><td>1</td><td>1</td><td>Allison, Master. Hudson Trevor      </td><td>male  </td><td> 0.9167</td><td>1</td><td>2</td><td>113781</td><td>151.55</td><td>C22 C26</td><td>S</td><td>11</td><td> NA</td><td>Montreal, PQ / Chesterville, ON</td></tr>\n",
       "\t<tr><td>1</td><td>0</td><td>Allison, Miss. Helen Loraine        </td><td>female</td><td> 2.0000</td><td>1</td><td>2</td><td>113781</td><td>151.55</td><td>C22 C26</td><td>S</td><td>  </td><td> NA</td><td>Montreal, PQ / Chesterville, ON</td></tr>\n",
       "\t<tr><td>1</td><td>0</td><td>Allison, Mr. Hudson Joshua Creighton</td><td>male  </td><td>30.0000</td><td>1</td><td>2</td><td>113781</td><td>151.55</td><td>C22 C26</td><td>S</td><td>  </td><td>135</td><td>Montreal, PQ / Chesterville, ON</td></tr>\n",
       "</tbody>\n",
       "</table>\n"
      ],
      "text/latex": [
       "A data.table: 3 × 14\n",
       "\\begin{tabular}{r|llllllllllllll}\n",
       " pclass & survived & name & sex & age & sibsp & parch & ticket & fare & cabin & embarked & boat & body & home.dest\\\\\n",
       " <int> & <int> & <chr> & <chr> & <dbl> & <int> & <int> & <chr> & <dbl> & <chr> & <chr> & <chr> & <int> & <chr>\\\\\n",
       "\\hline\n",
       "\t 1 & 1 & Allison, Master. Hudson Trevor       & male   &  0.9167 & 1 & 2 & 113781 & 151.55 & C22 C26 & S & 11 &  NA & Montreal, PQ / Chesterville, ON\\\\\n",
       "\t 1 & 0 & Allison, Miss. Helen Loraine         & female &  2.0000 & 1 & 2 & 113781 & 151.55 & C22 C26 & S &    &  NA & Montreal, PQ / Chesterville, ON\\\\\n",
       "\t 1 & 0 & Allison, Mr. Hudson Joshua Creighton & male   & 30.0000 & 1 & 2 & 113781 & 151.55 & C22 C26 & S &    & 135 & Montreal, PQ / Chesterville, ON\\\\\n",
       "\\end{tabular}\n"
      ],
      "text/markdown": [
       "\n",
       "A data.table: 3 × 14\n",
       "\n",
       "| pclass &lt;int&gt; | survived &lt;int&gt; | name &lt;chr&gt; | sex &lt;chr&gt; | age &lt;dbl&gt; | sibsp &lt;int&gt; | parch &lt;int&gt; | ticket &lt;chr&gt; | fare &lt;dbl&gt; | cabin &lt;chr&gt; | embarked &lt;chr&gt; | boat &lt;chr&gt; | body &lt;int&gt; | home.dest &lt;chr&gt; |\n",
       "|---|---|---|---|---|---|---|---|---|---|---|---|---|---|\n",
       "| 1 | 1 | Allison, Master. Hudson Trevor       | male   |  0.9167 | 1 | 2 | 113781 | 151.55 | C22 C26 | S | 11 |  NA | Montreal, PQ / Chesterville, ON |\n",
       "| 1 | 0 | Allison, Miss. Helen Loraine         | female |  2.0000 | 1 | 2 | 113781 | 151.55 | C22 C26 | S | <!----> |  NA | Montreal, PQ / Chesterville, ON |\n",
       "| 1 | 0 | Allison, Mr. Hudson Joshua Creighton | male   | 30.0000 | 1 | 2 | 113781 | 151.55 | C22 C26 | S | <!----> | 135 | Montreal, PQ / Chesterville, ON |\n",
       "\n"
      ],
      "text/plain": [
       "  pclass survived name                                 sex    age     sibsp\n",
       "1 1      1        Allison, Master. Hudson Trevor       male    0.9167 1    \n",
       "2 1      0        Allison, Miss. Helen Loraine         female  2.0000 1    \n",
       "3 1      0        Allison, Mr. Hudson Joshua Creighton male   30.0000 1    \n",
       "  parch ticket fare   cabin   embarked boat body\n",
       "1 2     113781 151.55 C22 C26 S        11    NA \n",
       "2 2     113781 151.55 C22 C26 S              NA \n",
       "3 2     113781 151.55 C22 C26 S             135 \n",
       "  home.dest                      \n",
       "1 Montreal, PQ / Chesterville, ON\n",
       "2 Montreal, PQ / Chesterville, ON\n",
       "3 Montreal, PQ / Chesterville, ON"
      ]
     },
     "metadata": {},
     "output_type": "display_data"
    }
   ],
   "source": [
    "# Select rows by number\n",
    "dt[2:4,]"
   ]
  },
  {
   "cell_type": "code",
   "execution_count": 8,
   "metadata": {
    "scrolled": true
   },
   "outputs": [
    {
     "data": {
      "text/html": [
       "<table>\n",
       "<caption>A data.table: 4 × 14</caption>\n",
       "<thead>\n",
       "\t<tr><th scope=col>pclass</th><th scope=col>survived</th><th scope=col>name</th><th scope=col>sex</th><th scope=col>age</th><th scope=col>sibsp</th><th scope=col>parch</th><th scope=col>ticket</th><th scope=col>fare</th><th scope=col>cabin</th><th scope=col>embarked</th><th scope=col>boat</th><th scope=col>body</th><th scope=col>home.dest</th></tr>\n",
       "\t<tr><th scope=col>&lt;int&gt;</th><th scope=col>&lt;int&gt;</th><th scope=col>&lt;chr&gt;</th><th scope=col>&lt;chr&gt;</th><th scope=col>&lt;dbl&gt;</th><th scope=col>&lt;int&gt;</th><th scope=col>&lt;int&gt;</th><th scope=col>&lt;chr&gt;</th><th scope=col>&lt;dbl&gt;</th><th scope=col>&lt;chr&gt;</th><th scope=col>&lt;chr&gt;</th><th scope=col>&lt;chr&gt;</th><th scope=col>&lt;int&gt;</th><th scope=col>&lt;chr&gt;</th></tr>\n",
       "</thead>\n",
       "<tbody>\n",
       "\t<tr><td>1</td><td>1</td><td>Allen, Miss. Elisabeth Walton    </td><td>female</td><td>29.0000</td><td>0</td><td>0</td><td>24160 </td><td>211.3375</td><td>B5     </td><td>S</td><td>2 </td><td>NA</td><td>St Louis, MO                   </td></tr>\n",
       "\t<tr><td>1</td><td>1</td><td>Allison, Master. Hudson Trevor   </td><td>male  </td><td> 0.9167</td><td>1</td><td>2</td><td>113781</td><td>151.5500</td><td>C22 C26</td><td>S</td><td>11</td><td>NA</td><td>Montreal, PQ / Chesterville, ON</td></tr>\n",
       "\t<tr><td>1</td><td>1</td><td>Anderson, Mr. Harry              </td><td>male  </td><td>48.0000</td><td>0</td><td>0</td><td>19952 </td><td> 26.5500</td><td>E12    </td><td>S</td><td>3 </td><td>NA</td><td>New York, NY                   </td></tr>\n",
       "\t<tr><td>1</td><td>1</td><td>Andrews, Miss. Kornelia Theodosia</td><td>female</td><td>63.0000</td><td>1</td><td>0</td><td>13502 </td><td> 77.9583</td><td>D7     </td><td>S</td><td>10</td><td>NA</td><td>Hudson, NY                     </td></tr>\n",
       "</tbody>\n",
       "</table>\n"
      ],
      "text/latex": [
       "A data.table: 4 × 14\n",
       "\\begin{tabular}{r|llllllllllllll}\n",
       " pclass & survived & name & sex & age & sibsp & parch & ticket & fare & cabin & embarked & boat & body & home.dest\\\\\n",
       " <int> & <int> & <chr> & <chr> & <dbl> & <int> & <int> & <chr> & <dbl> & <chr> & <chr> & <chr> & <int> & <chr>\\\\\n",
       "\\hline\n",
       "\t 1 & 1 & Allen, Miss. Elisabeth Walton     & female & 29.0000 & 0 & 0 & 24160  & 211.3375 & B5      & S & 2  & NA & St Louis, MO                   \\\\\n",
       "\t 1 & 1 & Allison, Master. Hudson Trevor    & male   &  0.9167 & 1 & 2 & 113781 & 151.5500 & C22 C26 & S & 11 & NA & Montreal, PQ / Chesterville, ON\\\\\n",
       "\t 1 & 1 & Anderson, Mr. Harry               & male   & 48.0000 & 0 & 0 & 19952  &  26.5500 & E12     & S & 3  & NA & New York, NY                   \\\\\n",
       "\t 1 & 1 & Andrews, Miss. Kornelia Theodosia & female & 63.0000 & 1 & 0 & 13502  &  77.9583 & D7      & S & 10 & NA & Hudson, NY                     \\\\\n",
       "\\end{tabular}\n"
      ],
      "text/markdown": [
       "\n",
       "A data.table: 4 × 14\n",
       "\n",
       "| pclass &lt;int&gt; | survived &lt;int&gt; | name &lt;chr&gt; | sex &lt;chr&gt; | age &lt;dbl&gt; | sibsp &lt;int&gt; | parch &lt;int&gt; | ticket &lt;chr&gt; | fare &lt;dbl&gt; | cabin &lt;chr&gt; | embarked &lt;chr&gt; | boat &lt;chr&gt; | body &lt;int&gt; | home.dest &lt;chr&gt; |\n",
       "|---|---|---|---|---|---|---|---|---|---|---|---|---|---|\n",
       "| 1 | 1 | Allen, Miss. Elisabeth Walton     | female | 29.0000 | 0 | 0 | 24160  | 211.3375 | B5      | S | 2  | NA | St Louis, MO                    |\n",
       "| 1 | 1 | Allison, Master. Hudson Trevor    | male   |  0.9167 | 1 | 2 | 113781 | 151.5500 | C22 C26 | S | 11 | NA | Montreal, PQ / Chesterville, ON |\n",
       "| 1 | 1 | Anderson, Mr. Harry               | male   | 48.0000 | 0 | 0 | 19952  |  26.5500 | E12     | S | 3  | NA | New York, NY                    |\n",
       "| 1 | 1 | Andrews, Miss. Kornelia Theodosia | female | 63.0000 | 1 | 0 | 13502  |  77.9583 | D7      | S | 10 | NA | Hudson, NY                      |\n",
       "\n"
      ],
      "text/plain": [
       "  pclass survived name                              sex    age     sibsp parch\n",
       "1 1      1        Allen, Miss. Elisabeth Walton     female 29.0000 0     0    \n",
       "2 1      1        Allison, Master. Hudson Trevor    male    0.9167 1     2    \n",
       "3 1      1        Anderson, Mr. Harry               male   48.0000 0     0    \n",
       "4 1      1        Andrews, Miss. Kornelia Theodosia female 63.0000 1     0    \n",
       "  ticket fare     cabin   embarked boat body home.dest                      \n",
       "1 24160  211.3375 B5      S        2    NA   St Louis, MO                   \n",
       "2 113781 151.5500 C22 C26 S        11   NA   Montreal, PQ / Chesterville, ON\n",
       "3 19952   26.5500 E12     S        3    NA   New York, NY                   \n",
       "4 13502   77.9583 D7      S        10   NA   Hudson, NY                     "
      ]
     },
     "metadata": {},
     "output_type": "display_data"
    }
   ],
   "source": [
    "# Select rows by condition\n",
    "dt[survived == 1,] %>% head(4)"
   ]
  },
  {
   "cell_type": "code",
   "execution_count": 9,
   "metadata": {},
   "outputs": [
    {
     "data": {
      "text/html": [
       "<table>\n",
       "<caption>A data.table: 3 × 14</caption>\n",
       "<thead>\n",
       "\t<tr><th scope=col>pclass</th><th scope=col>survived</th><th scope=col>name</th><th scope=col>sex</th><th scope=col>age</th><th scope=col>sibsp</th><th scope=col>parch</th><th scope=col>ticket</th><th scope=col>fare</th><th scope=col>cabin</th><th scope=col>embarked</th><th scope=col>boat</th><th scope=col>body</th><th scope=col>home.dest</th></tr>\n",
       "\t<tr><th scope=col>&lt;int&gt;</th><th scope=col>&lt;int&gt;</th><th scope=col>&lt;chr&gt;</th><th scope=col>&lt;chr&gt;</th><th scope=col>&lt;dbl&gt;</th><th scope=col>&lt;int&gt;</th><th scope=col>&lt;int&gt;</th><th scope=col>&lt;chr&gt;</th><th scope=col>&lt;dbl&gt;</th><th scope=col>&lt;chr&gt;</th><th scope=col>&lt;chr&gt;</th><th scope=col>&lt;chr&gt;</th><th scope=col>&lt;int&gt;</th><th scope=col>&lt;chr&gt;</th></tr>\n",
       "</thead>\n",
       "<tbody>\n",
       "\t<tr><td>1</td><td>1</td><td>Allen, Miss. Elisabeth Walton                </td><td>female</td><td>29</td><td>0</td><td>0</td><td>24160</td><td>211.3375</td><td>B5  </td><td>S</td><td>2 </td><td>NA</td><td>St Louis, MO       </td></tr>\n",
       "\t<tr><td>1</td><td>1</td><td>Andrews, Miss. Kornelia Theodosia            </td><td>female</td><td>63</td><td>1</td><td>0</td><td>13502</td><td> 77.9583</td><td>D7  </td><td>S</td><td>10</td><td>NA</td><td>Hudson, NY         </td></tr>\n",
       "\t<tr><td>1</td><td>1</td><td>Appleton, Mrs. Edward Dale (Charlotte Lamson)</td><td>female</td><td>53</td><td>2</td><td>0</td><td>11769</td><td> 51.4792</td><td>C101</td><td>S</td><td>D </td><td>NA</td><td>Bayside, Queens, NY</td></tr>\n",
       "</tbody>\n",
       "</table>\n"
      ],
      "text/latex": [
       "A data.table: 3 × 14\n",
       "\\begin{tabular}{r|llllllllllllll}\n",
       " pclass & survived & name & sex & age & sibsp & parch & ticket & fare & cabin & embarked & boat & body & home.dest\\\\\n",
       " <int> & <int> & <chr> & <chr> & <dbl> & <int> & <int> & <chr> & <dbl> & <chr> & <chr> & <chr> & <int> & <chr>\\\\\n",
       "\\hline\n",
       "\t 1 & 1 & Allen, Miss. Elisabeth Walton                 & female & 29 & 0 & 0 & 24160 & 211.3375 & B5   & S & 2  & NA & St Louis, MO       \\\\\n",
       "\t 1 & 1 & Andrews, Miss. Kornelia Theodosia             & female & 63 & 1 & 0 & 13502 &  77.9583 & D7   & S & 10 & NA & Hudson, NY         \\\\\n",
       "\t 1 & 1 & Appleton, Mrs. Edward Dale (Charlotte Lamson) & female & 53 & 2 & 0 & 11769 &  51.4792 & C101 & S & D  & NA & Bayside, Queens, NY\\\\\n",
       "\\end{tabular}\n"
      ],
      "text/markdown": [
       "\n",
       "A data.table: 3 × 14\n",
       "\n",
       "| pclass &lt;int&gt; | survived &lt;int&gt; | name &lt;chr&gt; | sex &lt;chr&gt; | age &lt;dbl&gt; | sibsp &lt;int&gt; | parch &lt;int&gt; | ticket &lt;chr&gt; | fare &lt;dbl&gt; | cabin &lt;chr&gt; | embarked &lt;chr&gt; | boat &lt;chr&gt; | body &lt;int&gt; | home.dest &lt;chr&gt; |\n",
       "|---|---|---|---|---|---|---|---|---|---|---|---|---|---|\n",
       "| 1 | 1 | Allen, Miss. Elisabeth Walton                 | female | 29 | 0 | 0 | 24160 | 211.3375 | B5   | S | 2  | NA | St Louis, MO        |\n",
       "| 1 | 1 | Andrews, Miss. Kornelia Theodosia             | female | 63 | 1 | 0 | 13502 |  77.9583 | D7   | S | 10 | NA | Hudson, NY          |\n",
       "| 1 | 1 | Appleton, Mrs. Edward Dale (Charlotte Lamson) | female | 53 | 2 | 0 | 11769 |  51.4792 | C101 | S | D  | NA | Bayside, Queens, NY |\n",
       "\n"
      ],
      "text/plain": [
       "  pclass survived name                                          sex    age\n",
       "1 1      1        Allen, Miss. Elisabeth Walton                 female 29 \n",
       "2 1      1        Andrews, Miss. Kornelia Theodosia             female 63 \n",
       "3 1      1        Appleton, Mrs. Edward Dale (Charlotte Lamson) female 53 \n",
       "  sibsp parch ticket fare     cabin embarked boat body home.dest          \n",
       "1 0     0     24160  211.3375 B5    S        2    NA   St Louis, MO       \n",
       "2 1     0     13502   77.9583 D7    S        10   NA   Hudson, NY         \n",
       "3 2     0     11769   51.4792 C101  S        D    NA   Bayside, Queens, NY"
      ]
     },
     "metadata": {},
     "output_type": "display_data"
    }
   ],
   "source": [
    "# Select rows by multiple conditions\n",
    "dt[survived == 1 & sex == \"female\",] %>% head(3)"
   ]
  },
  {
   "cell_type": "code",
   "execution_count": 10,
   "metadata": {},
   "outputs": [
    {
     "data": {
      "text/html": [
       "<table>\n",
       "<caption>A data.table: 3 × 2</caption>\n",
       "<thead>\n",
       "\t<tr><th scope=col>survived</th><th scope=col>pclass</th></tr>\n",
       "\t<tr><th scope=col>&lt;int&gt;</th><th scope=col>&lt;int&gt;</th></tr>\n",
       "</thead>\n",
       "<tbody>\n",
       "\t<tr><td>1</td><td>1</td></tr>\n",
       "\t<tr><td>1</td><td>1</td></tr>\n",
       "\t<tr><td>0</td><td>1</td></tr>\n",
       "</tbody>\n",
       "</table>\n"
      ],
      "text/latex": [
       "A data.table: 3 × 2\n",
       "\\begin{tabular}{r|ll}\n",
       " survived & pclass\\\\\n",
       " <int> & <int>\\\\\n",
       "\\hline\n",
       "\t 1 & 1\\\\\n",
       "\t 1 & 1\\\\\n",
       "\t 0 & 1\\\\\n",
       "\\end{tabular}\n"
      ],
      "text/markdown": [
       "\n",
       "A data.table: 3 × 2\n",
       "\n",
       "| survived &lt;int&gt; | pclass &lt;int&gt; |\n",
       "|---|---|\n",
       "| 1 | 1 |\n",
       "| 1 | 1 |\n",
       "| 0 | 1 |\n",
       "\n"
      ],
      "text/plain": [
       "  survived pclass\n",
       "1 1        1     \n",
       "2 1        1     \n",
       "3 0        1     "
      ]
     },
     "metadata": {},
     "output_type": "display_data"
    }
   ],
   "source": [
    "# Select columns by name\n",
    "dt[, .(survived, pclass)] %>% head(3)"
   ]
  },
  {
   "cell_type": "markdown",
   "metadata": {},
   "source": [
    "## Assign values"
   ]
  },
  {
   "cell_type": "code",
   "execution_count": 11,
   "metadata": {},
   "outputs": [
    {
     "data": {
      "text/html": [
       "<table>\n",
       "<caption>A data.table: 3 × 15</caption>\n",
       "<thead>\n",
       "\t<tr><th scope=col>pclass</th><th scope=col>survived</th><th scope=col>name</th><th scope=col>sex</th><th scope=col>age</th><th scope=col>sibsp</th><th scope=col>parch</th><th scope=col>ticket</th><th scope=col>fare</th><th scope=col>cabin</th><th scope=col>embarked</th><th scope=col>boat</th><th scope=col>body</th><th scope=col>home.dest</th><th scope=col>sparkles</th></tr>\n",
       "\t<tr><th scope=col>&lt;int&gt;</th><th scope=col>&lt;int&gt;</th><th scope=col>&lt;chr&gt;</th><th scope=col>&lt;chr&gt;</th><th scope=col>&lt;dbl&gt;</th><th scope=col>&lt;int&gt;</th><th scope=col>&lt;int&gt;</th><th scope=col>&lt;chr&gt;</th><th scope=col>&lt;dbl&gt;</th><th scope=col>&lt;chr&gt;</th><th scope=col>&lt;chr&gt;</th><th scope=col>&lt;chr&gt;</th><th scope=col>&lt;int&gt;</th><th scope=col>&lt;chr&gt;</th><th scope=col>&lt;dbl&gt;</th></tr>\n",
       "</thead>\n",
       "<tbody>\n",
       "\t<tr><td>1</td><td>1</td><td>Allen, Miss. Elisabeth Walton </td><td>female</td><td>29.0000</td><td>0</td><td>0</td><td>24160 </td><td>211.3375</td><td>B5     </td><td>S</td><td>2 </td><td>NA</td><td>St Louis, MO                   </td><td>8</td></tr>\n",
       "\t<tr><td>1</td><td>1</td><td>Allison, Master. Hudson Trevor</td><td>male  </td><td> 0.9167</td><td>1</td><td>2</td><td>113781</td><td>151.5500</td><td>C22 C26</td><td>S</td><td>11</td><td>NA</td><td>Montreal, PQ / Chesterville, ON</td><td>8</td></tr>\n",
       "\t<tr><td>1</td><td>0</td><td>Allison, Miss. Helen Loraine  </td><td>female</td><td> 2.0000</td><td>1</td><td>2</td><td>113781</td><td>151.5500</td><td>C22 C26</td><td>S</td><td>  </td><td>NA</td><td>Montreal, PQ / Chesterville, ON</td><td>8</td></tr>\n",
       "</tbody>\n",
       "</table>\n"
      ],
      "text/latex": [
       "A data.table: 3 × 15\n",
       "\\begin{tabular}{r|lllllllllllllll}\n",
       " pclass & survived & name & sex & age & sibsp & parch & ticket & fare & cabin & embarked & boat & body & home.dest & sparkles\\\\\n",
       " <int> & <int> & <chr> & <chr> & <dbl> & <int> & <int> & <chr> & <dbl> & <chr> & <chr> & <chr> & <int> & <chr> & <dbl>\\\\\n",
       "\\hline\n",
       "\t 1 & 1 & Allen, Miss. Elisabeth Walton  & female & 29.0000 & 0 & 0 & 24160  & 211.3375 & B5      & S & 2  & NA & St Louis, MO                    & 8\\\\\n",
       "\t 1 & 1 & Allison, Master. Hudson Trevor & male   &  0.9167 & 1 & 2 & 113781 & 151.5500 & C22 C26 & S & 11 & NA & Montreal, PQ / Chesterville, ON & 8\\\\\n",
       "\t 1 & 0 & Allison, Miss. Helen Loraine   & female &  2.0000 & 1 & 2 & 113781 & 151.5500 & C22 C26 & S &    & NA & Montreal, PQ / Chesterville, ON & 8\\\\\n",
       "\\end{tabular}\n"
      ],
      "text/markdown": [
       "\n",
       "A data.table: 3 × 15\n",
       "\n",
       "| pclass &lt;int&gt; | survived &lt;int&gt; | name &lt;chr&gt; | sex &lt;chr&gt; | age &lt;dbl&gt; | sibsp &lt;int&gt; | parch &lt;int&gt; | ticket &lt;chr&gt; | fare &lt;dbl&gt; | cabin &lt;chr&gt; | embarked &lt;chr&gt; | boat &lt;chr&gt; | body &lt;int&gt; | home.dest &lt;chr&gt; | sparkles &lt;dbl&gt; |\n",
       "|---|---|---|---|---|---|---|---|---|---|---|---|---|---|---|\n",
       "| 1 | 1 | Allen, Miss. Elisabeth Walton  | female | 29.0000 | 0 | 0 | 24160  | 211.3375 | B5      | S | 2  | NA | St Louis, MO                    | 8 |\n",
       "| 1 | 1 | Allison, Master. Hudson Trevor | male   |  0.9167 | 1 | 2 | 113781 | 151.5500 | C22 C26 | S | 11 | NA | Montreal, PQ / Chesterville, ON | 8 |\n",
       "| 1 | 0 | Allison, Miss. Helen Loraine   | female |  2.0000 | 1 | 2 | 113781 | 151.5500 | C22 C26 | S | <!----> | NA | Montreal, PQ / Chesterville, ON | 8 |\n",
       "\n"
      ],
      "text/plain": [
       "  pclass survived name                           sex    age     sibsp parch\n",
       "1 1      1        Allen, Miss. Elisabeth Walton  female 29.0000 0     0    \n",
       "2 1      1        Allison, Master. Hudson Trevor male    0.9167 1     2    \n",
       "3 1      0        Allison, Miss. Helen Loraine   female  2.0000 1     2    \n",
       "  ticket fare     cabin   embarked boat body home.dest                      \n",
       "1 24160  211.3375 B5      S        2    NA   St Louis, MO                   \n",
       "2 113781 151.5500 C22 C26 S        11   NA   Montreal, PQ / Chesterville, ON\n",
       "3 113781 151.5500 C22 C26 S             NA   Montreal, PQ / Chesterville, ON\n",
       "  sparkles\n",
       "1 8       \n",
       "2 8       \n",
       "3 8       "
      ]
     },
     "metadata": {},
     "output_type": "display_data"
    }
   ],
   "source": [
    "# Assign a (new) column\n",
    "dt[, sparkles := 8]\n",
    "head(dt, 3)"
   ]
  },
  {
   "cell_type": "code",
   "execution_count": 12,
   "metadata": {
    "scrolled": true
   },
   "outputs": [
    {
     "data": {
      "text/html": [
       "<table>\n",
       "<caption>A data.table: 3 × 15</caption>\n",
       "<thead>\n",
       "\t<tr><th scope=col>pclass</th><th scope=col>survived</th><th scope=col>name</th><th scope=col>sex</th><th scope=col>age</th><th scope=col>sibsp</th><th scope=col>parch</th><th scope=col>ticket</th><th scope=col>fare</th><th scope=col>cabin</th><th scope=col>embarked</th><th scope=col>boat</th><th scope=col>body</th><th scope=col>home.dest</th><th scope=col>sparkles</th></tr>\n",
       "\t<tr><th scope=col>&lt;int&gt;</th><th scope=col>&lt;int&gt;</th><th scope=col>&lt;chr&gt;</th><th scope=col>&lt;chr&gt;</th><th scope=col>&lt;dbl&gt;</th><th scope=col>&lt;int&gt;</th><th scope=col>&lt;int&gt;</th><th scope=col>&lt;chr&gt;</th><th scope=col>&lt;dbl&gt;</th><th scope=col>&lt;chr&gt;</th><th scope=col>&lt;chr&gt;</th><th scope=col>&lt;chr&gt;</th><th scope=col>&lt;int&gt;</th><th scope=col>&lt;chr&gt;</th><th scope=col>&lt;dbl&gt;</th></tr>\n",
       "</thead>\n",
       "<tbody>\n",
       "\t<tr><td>1</td><td>1</td><td>Allen, Miss. Elisabeth Walton </td><td>female</td><td>29.0000</td><td>0</td><td>0</td><td>24160 </td><td>211.3375</td><td>B5     </td><td>S</td><td>2 </td><td>NA</td><td>St Louis, MO                   </td><td>3</td></tr>\n",
       "\t<tr><td>1</td><td>1</td><td>Allison, Master. Hudson Trevor</td><td>male  </td><td> 0.9167</td><td>1</td><td>2</td><td>113781</td><td>151.5500</td><td>C22 C26</td><td>S</td><td>11</td><td>NA</td><td>Montreal, PQ / Chesterville, ON</td><td>3</td></tr>\n",
       "\t<tr><td>1</td><td>0</td><td>Allison, Miss. Helen Loraine  </td><td>female</td><td> 2.0000</td><td>1</td><td>2</td><td>113781</td><td>151.5500</td><td>C22 C26</td><td>S</td><td>  </td><td>NA</td><td>Montreal, PQ / Chesterville, ON</td><td>8</td></tr>\n",
       "</tbody>\n",
       "</table>\n"
      ],
      "text/latex": [
       "A data.table: 3 × 15\n",
       "\\begin{tabular}{r|lllllllllllllll}\n",
       " pclass & survived & name & sex & age & sibsp & parch & ticket & fare & cabin & embarked & boat & body & home.dest & sparkles\\\\\n",
       " <int> & <int> & <chr> & <chr> & <dbl> & <int> & <int> & <chr> & <dbl> & <chr> & <chr> & <chr> & <int> & <chr> & <dbl>\\\\\n",
       "\\hline\n",
       "\t 1 & 1 & Allen, Miss. Elisabeth Walton  & female & 29.0000 & 0 & 0 & 24160  & 211.3375 & B5      & S & 2  & NA & St Louis, MO                    & 3\\\\\n",
       "\t 1 & 1 & Allison, Master. Hudson Trevor & male   &  0.9167 & 1 & 2 & 113781 & 151.5500 & C22 C26 & S & 11 & NA & Montreal, PQ / Chesterville, ON & 3\\\\\n",
       "\t 1 & 0 & Allison, Miss. Helen Loraine   & female &  2.0000 & 1 & 2 & 113781 & 151.5500 & C22 C26 & S &    & NA & Montreal, PQ / Chesterville, ON & 8\\\\\n",
       "\\end{tabular}\n"
      ],
      "text/markdown": [
       "\n",
       "A data.table: 3 × 15\n",
       "\n",
       "| pclass &lt;int&gt; | survived &lt;int&gt; | name &lt;chr&gt; | sex &lt;chr&gt; | age &lt;dbl&gt; | sibsp &lt;int&gt; | parch &lt;int&gt; | ticket &lt;chr&gt; | fare &lt;dbl&gt; | cabin &lt;chr&gt; | embarked &lt;chr&gt; | boat &lt;chr&gt; | body &lt;int&gt; | home.dest &lt;chr&gt; | sparkles &lt;dbl&gt; |\n",
       "|---|---|---|---|---|---|---|---|---|---|---|---|---|---|---|\n",
       "| 1 | 1 | Allen, Miss. Elisabeth Walton  | female | 29.0000 | 0 | 0 | 24160  | 211.3375 | B5      | S | 2  | NA | St Louis, MO                    | 3 |\n",
       "| 1 | 1 | Allison, Master. Hudson Trevor | male   |  0.9167 | 1 | 2 | 113781 | 151.5500 | C22 C26 | S | 11 | NA | Montreal, PQ / Chesterville, ON | 3 |\n",
       "| 1 | 0 | Allison, Miss. Helen Loraine   | female |  2.0000 | 1 | 2 | 113781 | 151.5500 | C22 C26 | S | <!----> | NA | Montreal, PQ / Chesterville, ON | 8 |\n",
       "\n"
      ],
      "text/plain": [
       "  pclass survived name                           sex    age     sibsp parch\n",
       "1 1      1        Allen, Miss. Elisabeth Walton  female 29.0000 0     0    \n",
       "2 1      1        Allison, Master. Hudson Trevor male    0.9167 1     2    \n",
       "3 1      0        Allison, Miss. Helen Loraine   female  2.0000 1     2    \n",
       "  ticket fare     cabin   embarked boat body home.dest                      \n",
       "1 24160  211.3375 B5      S        2    NA   St Louis, MO                   \n",
       "2 113781 151.5500 C22 C26 S        11   NA   Montreal, PQ / Chesterville, ON\n",
       "3 113781 151.5500 C22 C26 S             NA   Montreal, PQ / Chesterville, ON\n",
       "  sparkles\n",
       "1 3       \n",
       "2 3       \n",
       "3 8       "
      ]
     },
     "metadata": {},
     "output_type": "display_data"
    }
   ],
   "source": [
    "# Assign value to some rows\n",
    "dt[survived == 1, sparkles := 3]\n",
    "head(dt, 3)"
   ]
  },
  {
   "cell_type": "markdown",
   "metadata": {},
   "source": [
    "## Group by"
   ]
  },
  {
   "cell_type": "code",
   "execution_count": 13,
   "metadata": {},
   "outputs": [
    {
     "data": {
      "text/html": [
       "<table>\n",
       "<caption>A data.table: 3 × 4</caption>\n",
       "<thead>\n",
       "\t<tr><th scope=col>pclass</th><th scope=col>min_age</th><th scope=col>mean_fare</th><th scope=col>count</th></tr>\n",
       "\t<tr><th scope=col>&lt;int&gt;</th><th scope=col>&lt;dbl&gt;</th><th scope=col>&lt;dbl&gt;</th><th scope=col>&lt;int&gt;</th></tr>\n",
       "</thead>\n",
       "<tbody>\n",
       "\t<tr><td>1</td><td>0.9167</td><td>87.50899</td><td>323</td></tr>\n",
       "\t<tr><td>2</td><td>0.6667</td><td>21.17920</td><td>277</td></tr>\n",
       "\t<tr><td>3</td><td>0.1667</td><td>13.30289</td><td>709</td></tr>\n",
       "</tbody>\n",
       "</table>\n"
      ],
      "text/latex": [
       "A data.table: 3 × 4\n",
       "\\begin{tabular}{r|llll}\n",
       " pclass & min\\_age & mean\\_fare & count\\\\\n",
       " <int> & <dbl> & <dbl> & <int>\\\\\n",
       "\\hline\n",
       "\t 1 & 0.9167 & 87.50899 & 323\\\\\n",
       "\t 2 & 0.6667 & 21.17920 & 277\\\\\n",
       "\t 3 & 0.1667 & 13.30289 & 709\\\\\n",
       "\\end{tabular}\n"
      ],
      "text/markdown": [
       "\n",
       "A data.table: 3 × 4\n",
       "\n",
       "| pclass &lt;int&gt; | min_age &lt;dbl&gt; | mean_fare &lt;dbl&gt; | count &lt;int&gt; |\n",
       "|---|---|---|---|\n",
       "| 1 | 0.9167 | 87.50899 | 323 |\n",
       "| 2 | 0.6667 | 21.17920 | 277 |\n",
       "| 3 | 0.1667 | 13.30289 | 709 |\n",
       "\n"
      ],
      "text/plain": [
       "  pclass min_age mean_fare count\n",
       "1 1      0.9167  87.50899  323  \n",
       "2 2      0.6667  21.17920  277  \n",
       "3 3      0.1667  13.30289  709  "
      ]
     },
     "metadata": {},
     "output_type": "display_data"
    }
   ],
   "source": [
    "dt[, .(\n",
    "    min_age = min(age, na.rm = TRUE), \n",
    "    mean_fare = mean(fare, na.rm = TRUE),\n",
    "    count = .N\n",
    "), by = pclass]"
   ]
  },
  {
   "cell_type": "markdown",
   "metadata": {},
   "source": [
    "## Pivot table"
   ]
  },
  {
   "cell_type": "code",
   "execution_count": 20,
   "metadata": {},
   "outputs": [
    {
     "data": {
      "text/html": [
       "<table>\n",
       "<caption>A data.table: 3 × 3</caption>\n",
       "<thead>\n",
       "\t<tr><th scope=col>pclass</th><th scope=col>female</th><th scope=col>male</th></tr>\n",
       "\t<tr><th scope=col>&lt;int&gt;</th><th scope=col>&lt;dbl&gt;</th><th scope=col>&lt;dbl&gt;</th></tr>\n",
       "</thead>\n",
       "<tbody>\n",
       "\t<tr><td>1</td><td>36</td><td>42.0</td></tr>\n",
       "\t<tr><td>2</td><td>28</td><td>29.5</td></tr>\n",
       "\t<tr><td>3</td><td>22</td><td>25.0</td></tr>\n",
       "</tbody>\n",
       "</table>\n"
      ],
      "text/latex": [
       "A data.table: 3 × 3\n",
       "\\begin{tabular}{r|lll}\n",
       " pclass & female & male\\\\\n",
       " <int> & <dbl> & <dbl>\\\\\n",
       "\\hline\n",
       "\t 1 & 36 & 42.0\\\\\n",
       "\t 2 & 28 & 29.5\\\\\n",
       "\t 3 & 22 & 25.0\\\\\n",
       "\\end{tabular}\n"
      ],
      "text/markdown": [
       "\n",
       "A data.table: 3 × 3\n",
       "\n",
       "| pclass &lt;int&gt; | female &lt;dbl&gt; | male &lt;dbl&gt; |\n",
       "|---|---|---|\n",
       "| 1 | 36 | 42.0 |\n",
       "| 2 | 28 | 29.5 |\n",
       "| 3 | 22 | 25.0 |\n",
       "\n"
      ],
      "text/plain": [
       "  pclass female male\n",
       "1 1      36     42.0\n",
       "2 2      28     29.5\n",
       "3 3      22     25.0"
      ]
     },
     "metadata": {},
     "output_type": "display_data"
    }
   ],
   "source": []
  },
  {
   "cell_type": "markdown",
   "metadata": {},
   "source": [
    "## Reshape"
   ]
  },
  {
   "cell_type": "markdown",
   "metadata": {},
   "source": [
    "https://cran.r-project.org/web/packages/data.table/vignettes/datatable-reshape.html"
   ]
  },
  {
   "cell_type": "markdown",
   "metadata": {},
   "source": [
    "### Spread / Cast / Pivot"
   ]
  },
  {
   "cell_type": "code",
   "execution_count": 25,
   "metadata": {},
   "outputs": [
    {
     "name": "stderr",
     "output_type": "stream",
     "text": [
      "Using 'sparkles' as value column. Use 'value.var' to override\n",
      "Aggregate function missing, defaulting to 'length'\n"
     ]
    },
    {
     "data": {
      "text/html": [
       "<table>\n",
       "<caption>A data.table: 2 × 4</caption>\n",
       "<thead>\n",
       "\t<tr><th scope=col>sex</th><th scope=col>1</th><th scope=col>2</th><th scope=col>3</th></tr>\n",
       "\t<tr><th scope=col>&lt;chr&gt;</th><th scope=col>&lt;int&gt;</th><th scope=col>&lt;int&gt;</th><th scope=col>&lt;int&gt;</th></tr>\n",
       "</thead>\n",
       "<tbody>\n",
       "\t<tr><td>female</td><td>144</td><td>106</td><td>216</td></tr>\n",
       "\t<tr><td>male  </td><td>179</td><td>171</td><td>493</td></tr>\n",
       "</tbody>\n",
       "</table>\n"
      ],
      "text/latex": [
       "A data.table: 2 × 4\n",
       "\\begin{tabular}{r|llll}\n",
       " sex & 1 & 2 & 3\\\\\n",
       " <chr> & <int> & <int> & <int>\\\\\n",
       "\\hline\n",
       "\t female & 144 & 106 & 216\\\\\n",
       "\t male   & 179 & 171 & 493\\\\\n",
       "\\end{tabular}\n"
      ],
      "text/markdown": [
       "\n",
       "A data.table: 2 × 4\n",
       "\n",
       "| sex &lt;chr&gt; | 1 &lt;int&gt; | 2 &lt;int&gt; | 3 &lt;int&gt; |\n",
       "|---|---|---|---|\n",
       "| female | 144 | 106 | 216 |\n",
       "| male   | 179 | 171 | 493 |\n",
       "\n"
      ],
      "text/plain": [
       "  sex    1   2   3  \n",
       "1 female 144 106 216\n",
       "2 male   179 171 493"
      ]
     },
     "metadata": {},
     "output_type": "display_data"
    }
   ],
   "source": [
    "# Count Pivot Table\n",
    "data.table::dcast(dt, sex ~ pclass)"
   ]
  },
  {
   "cell_type": "code",
   "execution_count": 33,
   "metadata": {},
   "outputs": [
    {
     "data": {
      "text/html": [
       "<table>\n",
       "<caption>A data.table: 2 × 4</caption>\n",
       "<thead>\n",
       "\t<tr><th scope=col>sex</th><th scope=col>1</th><th scope=col>2</th><th scope=col>3</th></tr>\n",
       "\t<tr><th scope=col>&lt;chr&gt;</th><th scope=col>&lt;dbl&gt;</th><th scope=col>&lt;dbl&gt;</th><th scope=col>&lt;dbl&gt;</th></tr>\n",
       "</thead>\n",
       "<tbody>\n",
       "\t<tr><td>female</td><td>36</td><td>28.0</td><td>22</td></tr>\n",
       "\t<tr><td>male  </td><td>42</td><td>29.5</td><td>25</td></tr>\n",
       "</tbody>\n",
       "</table>\n"
      ],
      "text/latex": [
       "A data.table: 2 × 4\n",
       "\\begin{tabular}{r|llll}\n",
       " sex & 1 & 2 & 3\\\\\n",
       " <chr> & <dbl> & <dbl> & <dbl>\\\\\n",
       "\\hline\n",
       "\t female & 36 & 28.0 & 22\\\\\n",
       "\t male   & 42 & 29.5 & 25\\\\\n",
       "\\end{tabular}\n"
      ],
      "text/markdown": [
       "\n",
       "A data.table: 2 × 4\n",
       "\n",
       "| sex &lt;chr&gt; | 1 &lt;dbl&gt; | 2 &lt;dbl&gt; | 3 &lt;dbl&gt; |\n",
       "|---|---|---|---|\n",
       "| female | 36 | 28.0 | 22 |\n",
       "| male   | 42 | 29.5 | 25 |\n",
       "\n"
      ],
      "text/plain": [
       "  sex    1  2    3 \n",
       "1 female 36 28.0 22\n",
       "2 male   42 29.5 25"
      ]
     },
     "metadata": {},
     "output_type": "display_data"
    }
   ],
   "source": [
    "# Aggegate Pivot Table\n",
    "dt_wide <- data.table::dcast(dt, sex ~ pclass, value.var = \"age\", fun.aggregate = median, na.rm = TRUE)\n",
    "dt_wide"
   ]
  },
  {
   "cell_type": "markdown",
   "metadata": {},
   "source": [
    "### Gather / Melt"
   ]
  },
  {
   "cell_type": "code",
   "execution_count": 34,
   "metadata": {},
   "outputs": [
    {
     "data": {
      "text/html": [
       "<table>\n",
       "<caption>A data.table: 6 × 3</caption>\n",
       "<thead>\n",
       "\t<tr><th scope=col>sex</th><th scope=col>pclass</th><th scope=col>med_age</th></tr>\n",
       "\t<tr><th scope=col>&lt;chr&gt;</th><th scope=col>&lt;fct&gt;</th><th scope=col>&lt;dbl&gt;</th></tr>\n",
       "</thead>\n",
       "<tbody>\n",
       "\t<tr><td>female</td><td>1</td><td>36.0</td></tr>\n",
       "\t<tr><td>male  </td><td>1</td><td>42.0</td></tr>\n",
       "\t<tr><td>female</td><td>2</td><td>28.0</td></tr>\n",
       "\t<tr><td>male  </td><td>2</td><td>29.5</td></tr>\n",
       "\t<tr><td>female</td><td>3</td><td>22.0</td></tr>\n",
       "\t<tr><td>male  </td><td>3</td><td>25.0</td></tr>\n",
       "</tbody>\n",
       "</table>\n"
      ],
      "text/latex": [
       "A data.table: 6 × 3\n",
       "\\begin{tabular}{r|lll}\n",
       " sex & pclass & med\\_age\\\\\n",
       " <chr> & <fct> & <dbl>\\\\\n",
       "\\hline\n",
       "\t female & 1 & 36.0\\\\\n",
       "\t male   & 1 & 42.0\\\\\n",
       "\t female & 2 & 28.0\\\\\n",
       "\t male   & 2 & 29.5\\\\\n",
       "\t female & 3 & 22.0\\\\\n",
       "\t male   & 3 & 25.0\\\\\n",
       "\\end{tabular}\n"
      ],
      "text/markdown": [
       "\n",
       "A data.table: 6 × 3\n",
       "\n",
       "| sex &lt;chr&gt; | pclass &lt;fct&gt; | med_age &lt;dbl&gt; |\n",
       "|---|---|---|\n",
       "| female | 1 | 36.0 |\n",
       "| male   | 1 | 42.0 |\n",
       "| female | 2 | 28.0 |\n",
       "| male   | 2 | 29.5 |\n",
       "| female | 3 | 22.0 |\n",
       "| male   | 3 | 25.0 |\n",
       "\n"
      ],
      "text/plain": [
       "  sex    pclass med_age\n",
       "1 female 1      36.0   \n",
       "2 male   1      42.0   \n",
       "3 female 2      28.0   \n",
       "4 male   2      29.5   \n",
       "5 female 3      22.0   \n",
       "6 male   3      25.0   "
      ]
     },
     "metadata": {},
     "output_type": "display_data"
    }
   ],
   "source": [
    "data.table::melt(dt_wide, id.vars = \"sex\", measure.vars = c(\"1\", \"2\", \"3\"), variable.name = \"pclass\", value.name = \"med_age\")"
   ]
  },
  {
   "cell_type": "markdown",
   "metadata": {},
   "source": [
    "## Join"
   ]
  },
  {
   "cell_type": "code",
   "execution_count": 38,
   "metadata": {},
   "outputs": [
    {
     "data": {
      "text/html": [
       "<table>\n",
       "<caption>A data.table: 6 × 5</caption>\n",
       "<thead>\n",
       "\t<tr><th scope=col>name</th><th scope=col>sex</th><th scope=col>age</th><th scope=col>pclass</th><th scope=col>fare</th></tr>\n",
       "\t<tr><th scope=col>&lt;chr&gt;</th><th scope=col>&lt;chr&gt;</th><th scope=col>&lt;dbl&gt;</th><th scope=col>&lt;int&gt;</th><th scope=col>&lt;dbl&gt;</th></tr>\n",
       "</thead>\n",
       "<tbody>\n",
       "\t<tr><td>Allen, Miss. Elisabeth Walton                  </td><td>female</td><td>29.0000</td><td>1</td><td>211.3375</td></tr>\n",
       "\t<tr><td>Allison, Master. Hudson Trevor                 </td><td>male  </td><td> 0.9167</td><td>1</td><td>151.5500</td></tr>\n",
       "\t<tr><td>Allison, Miss. Helen Loraine                   </td><td>female</td><td> 2.0000</td><td>1</td><td>151.5500</td></tr>\n",
       "\t<tr><td>Allison, Mr. Hudson Joshua Creighton           </td><td>male  </td><td>30.0000</td><td>1</td><td>151.5500</td></tr>\n",
       "\t<tr><td>Allison, Mrs. Hudson J C (Bessie Waldo Daniels)</td><td>female</td><td>25.0000</td><td>1</td><td>151.5500</td></tr>\n",
       "\t<tr><td>Anderson, Mr. Harry                            </td><td>male  </td><td>48.0000</td><td>1</td><td> 26.5500</td></tr>\n",
       "</tbody>\n",
       "</table>\n"
      ],
      "text/latex": [
       "A data.table: 6 × 5\n",
       "\\begin{tabular}{r|lllll}\n",
       " name & sex & age & pclass & fare\\\\\n",
       " <chr> & <chr> & <dbl> & <int> & <dbl>\\\\\n",
       "\\hline\n",
       "\t Allen, Miss. Elisabeth Walton                   & female & 29.0000 & 1 & 211.3375\\\\\n",
       "\t Allison, Master. Hudson Trevor                  & male   &  0.9167 & 1 & 151.5500\\\\\n",
       "\t Allison, Miss. Helen Loraine                    & female &  2.0000 & 1 & 151.5500\\\\\n",
       "\t Allison, Mr. Hudson Joshua Creighton            & male   & 30.0000 & 1 & 151.5500\\\\\n",
       "\t Allison, Mrs. Hudson J C (Bessie Waldo Daniels) & female & 25.0000 & 1 & 151.5500\\\\\n",
       "\t Anderson, Mr. Harry                             & male   & 48.0000 & 1 &  26.5500\\\\\n",
       "\\end{tabular}\n"
      ],
      "text/markdown": [
       "\n",
       "A data.table: 6 × 5\n",
       "\n",
       "| name &lt;chr&gt; | sex &lt;chr&gt; | age &lt;dbl&gt; | pclass &lt;int&gt; | fare &lt;dbl&gt; |\n",
       "|---|---|---|---|---|\n",
       "| Allen, Miss. Elisabeth Walton                   | female | 29.0000 | 1 | 211.3375 |\n",
       "| Allison, Master. Hudson Trevor                  | male   |  0.9167 | 1 | 151.5500 |\n",
       "| Allison, Miss. Helen Loraine                    | female |  2.0000 | 1 | 151.5500 |\n",
       "| Allison, Mr. Hudson Joshua Creighton            | male   | 30.0000 | 1 | 151.5500 |\n",
       "| Allison, Mrs. Hudson J C (Bessie Waldo Daniels) | female | 25.0000 | 1 | 151.5500 |\n",
       "| Anderson, Mr. Harry                             | male   | 48.0000 | 1 |  26.5500 |\n",
       "\n"
      ],
      "text/plain": [
       "  name                                            sex    age     pclass\n",
       "1 Allen, Miss. Elisabeth Walton                   female 29.0000 1     \n",
       "2 Allison, Master. Hudson Trevor                  male    0.9167 1     \n",
       "3 Allison, Miss. Helen Loraine                    female  2.0000 1     \n",
       "4 Allison, Mr. Hudson Joshua Creighton            male   30.0000 1     \n",
       "5 Allison, Mrs. Hudson J C (Bessie Waldo Daniels) female 25.0000 1     \n",
       "6 Anderson, Mr. Harry                             male   48.0000 1     \n",
       "  fare    \n",
       "1 211.3375\n",
       "2 151.5500\n",
       "3 151.5500\n",
       "4 151.5500\n",
       "5 151.5500\n",
       "6  26.5500"
      ]
     },
     "metadata": {},
     "output_type": "display_data"
    }
   ],
   "source": [
    "left_dt = dt[1:100, .(name, sex, age)]\n",
    "right_dt = dt[1:100, .(name, pclass, fare)]\n",
    "\n",
    "merge(\n",
    "    left_dt,\n",
    "    right_dt,\n",
    "    by = 'name',   # by.x, by.y\n",
    "    all = FALSE    # all.x, all.y\n",
    ") %>% head()"
   ]
  },
  {
   "cell_type": "markdown",
   "metadata": {},
   "source": [
    "## Rolling Join / As-of Join"
   ]
  },
  {
   "cell_type": "code",
   "execution_count": null,
   "metadata": {},
   "outputs": [],
   "source": []
  }
 ],
 "metadata": {
  "kernelspec": {
   "display_name": "R [conda env:rosetta-stone]",
   "language": "R",
   "name": "conda-env-rosetta-stone-r"
  },
  "language_info": {
   "codemirror_mode": "r",
   "file_extension": ".r",
   "mimetype": "text/x-r-source",
   "name": "R",
   "pygments_lexer": "r",
   "version": "3.5.1"
  }
 },
 "nbformat": 4,
 "nbformat_minor": 4
}
